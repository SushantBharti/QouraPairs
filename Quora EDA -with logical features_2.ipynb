{
 "cells": [
  {
   "cell_type": "code",
   "execution_count": 2,
   "metadata": {},
   "outputs": [
    {
     "data": {
      "text/html": [
       "<script>requirejs.config({paths: { 'plotly': ['https://cdn.plot.ly/plotly-latest.min']},});if(!window.Plotly) {{require(['plotly'],function(plotly) {window.Plotly=plotly;});}}</script>"
      ],
      "text/plain": [
       "<IPython.core.display.HTML object>"
      ]
     },
     "metadata": {},
     "output_type": "display_data"
    }
   ],
   "source": [
    "import pandas as pd\n",
    "import numpy as np\n",
    "import math\n",
    "from IPython.display import Markdown, display\n",
    "from scipy.stats import skew\n",
    "import seaborn as sns\n",
    "import matplotlib.pyplot as plt    \n",
    "from dataHack import removeColl \n",
    "%matplotlib inline\n",
    "import warnings\n",
    "import scipy\n",
    "warnings.filterwarnings('ignore')\n",
    "import networkx as nx\n",
    "%load_ext autotime\n",
    "def printmd(string):\n",
    "    display(Markdown(string))\n",
    "import plotly.offline as py1\n",
    "py1.init_notebook_mode(connected=True)\n",
    "import plotly.graph_objs as go\n",
    "import plotly.tools as tls\n",
    "import os\n",
    "import plotly\n",
    "import plotly.plotly as py\n",
    "from plotly.tools import FigureFactory as ff\n",
    "plotly.tools.set_credentials_file(username='sushant.bharti', api_key='WptZURbEo6AnBZpSHNgO')\n",
    "plt.style.use('seaborn-bright')\n",
    "pal = sns.color_palette()"
   ]
  },
  {
   "cell_type": "code",
   "execution_count": 3,
   "metadata": {},
   "outputs": [
    {
     "data": {
      "text/html": [
       "<div>\n",
       "<style>\n",
       "    .dataframe thead tr:only-child th {\n",
       "        text-align: right;\n",
       "    }\n",
       "\n",
       "    .dataframe thead th {\n",
       "        text-align: left;\n",
       "    }\n",
       "\n",
       "    .dataframe tbody tr th {\n",
       "        vertical-align: top;\n",
       "    }\n",
       "</style>\n",
       "<table border=\"1\" class=\"dataframe\">\n",
       "  <thead>\n",
       "    <tr style=\"text-align: right;\">\n",
       "      <th></th>\n",
       "      <th>id</th>\n",
       "      <th>qid1</th>\n",
       "      <th>qid2</th>\n",
       "      <th>question1</th>\n",
       "      <th>question2</th>\n",
       "      <th>is_duplicate</th>\n",
       "    </tr>\n",
       "  </thead>\n",
       "  <tbody>\n",
       "    <tr>\n",
       "      <th>0</th>\n",
       "      <td>0</td>\n",
       "      <td>1</td>\n",
       "      <td>2</td>\n",
       "      <td>What is the step by step guide to invest in sh...</td>\n",
       "      <td>What is the step by step guide to invest in sh...</td>\n",
       "      <td>0</td>\n",
       "    </tr>\n",
       "    <tr>\n",
       "      <th>1</th>\n",
       "      <td>1</td>\n",
       "      <td>3</td>\n",
       "      <td>4</td>\n",
       "      <td>What is the story of Kohinoor (Koh-i-Noor) Dia...</td>\n",
       "      <td>What would happen if the Indian government sto...</td>\n",
       "      <td>0</td>\n",
       "    </tr>\n",
       "    <tr>\n",
       "      <th>2</th>\n",
       "      <td>2</td>\n",
       "      <td>5</td>\n",
       "      <td>6</td>\n",
       "      <td>How can I increase the speed of my internet co...</td>\n",
       "      <td>How can Internet speed be increased by hacking...</td>\n",
       "      <td>0</td>\n",
       "    </tr>\n",
       "    <tr>\n",
       "      <th>3</th>\n",
       "      <td>3</td>\n",
       "      <td>7</td>\n",
       "      <td>8</td>\n",
       "      <td>Why am I mentally very lonely? How can I solve...</td>\n",
       "      <td>Find the remainder when [math]23^{24}[/math] i...</td>\n",
       "      <td>0</td>\n",
       "    </tr>\n",
       "    <tr>\n",
       "      <th>4</th>\n",
       "      <td>4</td>\n",
       "      <td>9</td>\n",
       "      <td>10</td>\n",
       "      <td>Which one dissolve in water quikly sugar, salt...</td>\n",
       "      <td>Which fish would survive in salt water?</td>\n",
       "      <td>0</td>\n",
       "    </tr>\n",
       "  </tbody>\n",
       "</table>\n",
       "</div>"
      ],
      "text/plain": [
       "   id  qid1  qid2                                          question1  \\\n",
       "0   0     1     2  What is the step by step guide to invest in sh...   \n",
       "1   1     3     4  What is the story of Kohinoor (Koh-i-Noor) Dia...   \n",
       "2   2     5     6  How can I increase the speed of my internet co...   \n",
       "3   3     7     8  Why am I mentally very lonely? How can I solve...   \n",
       "4   4     9    10  Which one dissolve in water quikly sugar, salt...   \n",
       "\n",
       "                                           question2  is_duplicate  \n",
       "0  What is the step by step guide to invest in sh...             0  \n",
       "1  What would happen if the Indian government sto...             0  \n",
       "2  How can Internet speed be increased by hacking...             0  \n",
       "3  Find the remainder when [math]23^{24}[/math] i...             0  \n",
       "4            Which fish would survive in salt water?             0  "
      ]
     },
     "execution_count": 3,
     "metadata": {},
     "output_type": "execute_result"
    },
    {
     "name": "stdout",
     "output_type": "stream",
     "text": [
      "time: 1.44 s\n"
     ]
    }
   ],
   "source": [
    "df_train = pd.read_csv('../quora pairs/train.csv')\n",
    "df_train.head()"
   ]
  },
  {
   "cell_type": "code",
   "execution_count": 4,
   "metadata": {},
   "outputs": [
    {
     "name": "stdout",
     "output_type": "stream",
     "text": [
      "<class 'pandas.core.frame.DataFrame'>\n",
      "RangeIndex: 404290 entries, 0 to 404289\n",
      "Data columns (total 6 columns):\n",
      "id              404290 non-null int64\n",
      "qid1            404290 non-null int64\n",
      "qid2            404290 non-null int64\n",
      "question1       404290 non-null object\n",
      "question2       404288 non-null object\n",
      "is_duplicate    404290 non-null int64\n",
      "dtypes: int64(4), object(2)\n",
      "memory usage: 18.5+ MB\n",
      "None\n",
      "\n",
      "\n",
      "Id : 404290 \n",
      "Qid : 290654 \n",
      "\n",
      "Duplicate\n",
      "0    255027\n",
      "1    149263\n",
      "Name: is_duplicate, dtype: int64\n",
      "Duplicate pairs: 36.92%\n",
      "time: 191 ms\n"
     ]
    }
   ],
   "source": [
    "print df_train.info()\n",
    "print '\\n\\nId :',df_train.id.nunique(),'\\nQid :',df_train.qid1.nunique(),'\\n\\nDuplicate\\n',df_train.is_duplicate.value_counts()\n",
    "print('Duplicate pairs: {}%'.format(round(df_train['is_duplicate'].mean()*100, 2)))"
   ]
  },
  {
   "cell_type": "code",
   "execution_count": null,
   "metadata": {
    "collapsed": true
   },
   "outputs": [],
   "source": []
  },
  {
   "cell_type": "code",
   "execution_count": 5,
   "metadata": {},
   "outputs": [
    {
     "name": "stdout",
     "output_type": "stream",
     "text": [
      "Total number of question pairs for training: 404290\n",
      "Duplicate pairs: 36.92%\n",
      "Total number of questions in the training data: 537933\n",
      "Number of questions that appear multiple times: 111780\n",
      "()\n"
     ]
    },
    {
     "data": {
      "image/png": "[encoded data removed]",
      "text/plain": [
       "<matplotlib.figure.Figure at 0x15beff98>"
      ]
     },
     "metadata": {},
     "output_type": "display_data"
    },
    {
     "name": "stdout",
     "output_type": "stream",
     "text": [
      "time: 2.85 s\n"
     ]
    }
   ],
   "source": [
    "print('Total number of question pairs for training: {}'.format(len(df_train)))\n",
    "print('Duplicate pairs: {}%'.format(round(df_train['is_duplicate'].mean()*100, 2)))\n",
    "qids = pd.Series(df_train['qid1'].tolist() + df_train['qid2'].tolist())\n",
    "print('Total number of questions in the training data: {}'.format(len(\n",
    "    np.unique(qids))))\n",
    "print('Number of questions that appear multiple times: {}'.format(np.sum(qids.value_counts() > 1)))\n",
    "\n",
    "plt.figure(figsize=(12, 5))\n",
    "plt.hist(qids.value_counts(), bins=50)\n",
    "plt.yscale('log', nonposy='clip')\n",
    "plt.title('Log-Histogram of question appearance counts')\n",
    "plt.xlabel('Number of occurences of question')\n",
    "plt.ylabel('Number of questions')\n",
    "print()"
   ]
  },
  {
   "cell_type": "code",
   "execution_count": 6,
   "metadata": {},
   "outputs": [
    {
     "data": {
      "text/markdown": [
       "### Predicted score:0.658527383984"
      ],
      "text/plain": [
       "<IPython.core.display.Markdown object>"
      ]
     },
     "metadata": {},
     "output_type": "display_data"
    },
    {
     "name": "stdout",
     "output_type": "stream",
     "text": [
      "time: 13.5 s\n"
     ]
    }
   ],
   "source": [
    "from sklearn.metrics import log_loss\n",
    "\n",
    "p = df_train['is_duplicate'].mean() # Our predicted probability\n",
    "printmd('### Predicted score:'+ str( log_loss(df_train['is_duplicate'], np.zeros_like(df_train['is_duplicate']) + p)))\n",
    "\n",
    "df_test = pd.read_csv('test.csv')\n",
    "sub = pd.DataFrame({'test_id': df_test['test_id'], 'is_duplicate': p})\n"
   ]
  },
  {
   "cell_type": "code",
   "execution_count": 7,
   "metadata": {},
   "outputs": [
    {
     "name": "stdout",
     "output_type": "stream",
     "text": [
      "<class 'pandas.core.frame.DataFrame'>\n",
      "RangeIndex: 2345796 entries, 0 to 2345795\n",
      "Data columns (total 3 columns):\n",
      "test_id      int64\n",
      "question1    object\n",
      "question2    object\n",
      "dtypes: int64(1), object(2)\n",
      "memory usage: 53.7+ MB\n",
      "None\n",
      "\n",
      "\n",
      "Id : 2345796 \n",
      "Qid : 2211008\n",
      "time: 1.3 s\n"
     ]
    }
   ],
   "source": [
    "print df_test.info()\n",
    "print '\\n\\nId :',df_test.test_id.nunique(),'\\nQid :',df_test.question1.nunique()#,'\\n\\nDuplicate\\n',df_test.is_duplicate.value_counts()\n",
    "#print('Duplicate pairs: {}%'.format(round(df_test['is_duplicate'].mean()*100, 2)))"
   ]
  },
  {
   "cell_type": "code",
   "execution_count": 8,
   "metadata": {},
   "outputs": [
    {
     "data": {
      "text/markdown": [
       "#### LB score 0.55 "
      ],
      "text/plain": [
       "<IPython.core.display.Markdown object>"
      ]
     },
     "metadata": {},
     "output_type": "display_data"
    },
    {
     "name": "stdout",
     "output_type": "stream",
     "text": [
      "time: 6 ms\n"
     ]
    }
   ],
   "source": [
    "printmd('#### LB score 0.55 ')"
   ]
  },
  {
   "cell_type": "code",
   "execution_count": 9,
   "metadata": {},
   "outputs": [
    {
     "name": "stdout",
     "output_type": "stream",
     "text": [
      "Total number of question pairs for testing: 2345796\n",
      "time: 141 ms\n"
     ]
    }
   ],
   "source": [
    "print('Total number of question pairs for testing: {}'.format(len(df_test)))"
   ]
  },
  {
   "cell_type": "code",
   "execution_count": 10,
   "metadata": {},
   "outputs": [
    {
     "data": {
      "text/markdown": [
       "# Characters per question"
      ],
      "text/plain": [
       "<IPython.core.display.Markdown object>"
      ]
     },
     "metadata": {},
     "output_type": "display_data"
    },
    {
     "name": "stdout",
     "output_type": "stream",
     "text": [
      "mean-train 59.86 std-train 31.99 mean-test 60.11 std-test 31.66 max-train 1169.00 max-test 1176.00\n"
     ]
    },
    {
     "data": {
      "image/png": "[encoded data removed]",
      "text/plain": [
       "<matplotlib.figure.Figure at 0x10e71ba8>"
      ]
     },
     "metadata": {},
     "output_type": "display_data"
    },
    {
     "name": "stdout",
     "output_type": "stream",
     "text": [
      "time: 7.26 s\n"
     ]
    }
   ],
   "source": [
    "train_qs = pd.Series(df_train['question1'].tolist() + df_train['question2'].tolist()).astype(str)\n",
    "test_qs = pd.Series(df_test['question1'].tolist() + df_test['question2'].tolist()).astype(str)\n",
    "\n",
    "dist_train = train_qs.apply(len)\n",
    "dist_test = test_qs.apply(len)\n",
    "plt.figure(figsize=(15, 10))\n",
    "plt.hist(dist_train, bins=200, range=[0, 200], color=pal[2], normed=True, label='train')\n",
    "plt.hist(dist_test, bins=200, range=[0, 200], color=pal[1], normed=True, alpha=0.5, label='test')\n",
    "plt.title('Normalised histogram of character count in questions', fontsize=15)\n",
    "plt.legend()\n",
    "plt.xlabel('Number of characters', fontsize=15)\n",
    "plt.ylabel('Probability', fontsize=15)\n",
    "printmd('# Characters per question')\n",
    "print('mean-train {:.2f} std-train {:.2f} mean-test {:.2f} std-test {:.2f} max-train {:.2f} max-test {:.2f}'.format(dist_train.mean(), \n",
    "                          dist_train.std(), dist_test.mean(), dist_test.std(), dist_train.max(), dist_test.max()))"
   ]
  },
  {
   "cell_type": "code",
   "execution_count": 11,
   "metadata": {},
   "outputs": [
    {
     "name": "stdout",
     "output_type": "stream",
     "text": [
      "808580\n"
     ]
    },
    {
     "data": {
      "text/plain": [
       "0    66\n",
       "1    51\n",
       "2    73\n",
       "3    50\n",
       "4    76\n",
       "dtype: int64"
      ]
     },
     "execution_count": 11,
     "metadata": {},
     "output_type": "execute_result"
    },
    {
     "name": "stdout",
     "output_type": "stream",
     "text": [
      "time: 4 ms\n"
     ]
    }
   ],
   "source": [
    "print len(dist_train)\n",
    "dist_train.head()"
   ]
  },
  {
   "cell_type": "code",
   "execution_count": 12,
   "metadata": {},
   "outputs": [
    {
     "name": "stdout",
     "output_type": "stream",
     "text": [
      "808580\n"
     ]
    },
    {
     "data": {
      "text/plain": [
       "0    What is the step by step guide to invest in sh...\n",
       "1    What is the story of Kohinoor (Koh-i-Noor) Dia...\n",
       "2    How can I increase the speed of my internet co...\n",
       "3    Why am I mentally very lonely? How can I solve...\n",
       "4    Which one dissolve in water quikly sugar, salt...\n",
       "dtype: object"
      ]
     },
     "execution_count": 12,
     "metadata": {},
     "output_type": "execute_result"
    },
    {
     "name": "stdout",
     "output_type": "stream",
     "text": [
      "time: 368 ms\n"
     ]
    }
   ],
   "source": [
    "print len(train_qs)\n",
    "train_qs.head()"
   ]
  },
  {
   "cell_type": "code",
   "execution_count": null,
   "metadata": {
    "collapsed": true
   },
   "outputs": [],
   "source": []
  },
  {
   "cell_type": "code",
   "execution_count": 13,
   "metadata": {},
   "outputs": [
    {
     "data": {
      "text/markdown": [
       "# Words per Question"
      ],
      "text/plain": [
       "<IPython.core.display.Markdown object>"
      ]
     },
     "metadata": {},
     "output_type": "display_data"
    },
    {
     "name": "stdout",
     "output_type": "stream",
     "text": [
      "mean-train 11.06 std-train 5.89 mean-test 11.02 std-test 5.84 max-train 237.00 max-test 238.00\n"
     ]
    },
    {
     "data": {
      "image/png": "[encoded data removed]",
      "text/plain": [
       "<matplotlib.figure.Figure at 0x3ba56470>"
      ]
     },
     "metadata": {},
     "output_type": "display_data"
    },
    {
     "name": "stdout",
     "output_type": "stream",
     "text": [
      "time: 8.37 s\n"
     ]
    }
   ],
   "source": [
    "dist_train = train_qs.apply(lambda x: len(x.split(' ')))\n",
    "dist_test = test_qs.apply(lambda x: len(x.split(' ')))\n",
    "\n",
    "plt.figure(figsize=(15, 10))\n",
    "plt.hist(dist_train, bins=50, range=[0, 50], color=pal[2], normed=True, label='train')\n",
    "plt.hist(dist_test, bins=50, range=[0, 50], color=pal[1], normed=True, alpha=0.5, label='test')\n",
    "plt.title('Normalised histogram of word count in questions', fontsize=15)\n",
    "plt.legend()\n",
    "plt.xlabel('Number of words', fontsize=15)\n",
    "plt.ylabel('Probability', fontsize=15)\n",
    "printmd('# Words per Question')\n",
    "print('mean-train {:.2f} std-train {:.2f} mean-test {:.2f} std-test {:.2f} max-train {:.2f} max-test {:.2f}'.format(dist_train.mean(), \n",
    "                          dist_train.std(), dist_test.mean(), dist_test.std(), dist_train.max(), dist_test.max()))"
   ]
  },
  {
   "cell_type": "code",
   "execution_count": 14,
   "metadata": {},
   "outputs": [
    {
     "name": "stdout",
     "output_type": "stream",
     "text": [
      "808580\n"
     ]
    },
    {
     "data": {
      "text/plain": [
       "0    14\n",
       "1     8\n",
       "2    14\n",
       "3    11\n",
       "4    13\n",
       "dtype: int64"
      ]
     },
     "execution_count": 14,
     "metadata": {},
     "output_type": "execute_result"
    },
    {
     "name": "stdout",
     "output_type": "stream",
     "text": [
      "time: 104 ms\n"
     ]
    }
   ],
   "source": [
    "print len(dist_train)\n",
    "dist_train.head()"
   ]
  },
  {
   "cell_type": "code",
   "execution_count": null,
   "metadata": {},
   "outputs": [],
   "source": []
  },
  {
   "cell_type": "markdown",
   "metadata": {},
   "source": [
    "# Semantic Analysis"
   ]
  },
  {
   "cell_type": "code",
   "execution_count": 15,
   "metadata": {},
   "outputs": [
    {
     "name": "stdout",
     "output_type": "stream",
     "text": [
      "Questions with question marks: 99.87%\n",
      "Questions with [math] tags: 0.12%\n",
      "Questions with full stops: 6.31%\n",
      "Questions with capitalised first letters: 99.81%\n",
      "Questions with capital letters: 99.95%\n",
      "Questions with numbers: 11.83%\n",
      "time: 15.3 s\n"
     ]
    }
   ],
   "source": [
    "qmarks = np.mean(train_qs.apply(lambda x: '?' in x))\n",
    "math = np.mean(train_qs.apply(lambda x: '[math]' in x))\n",
    "fullstop = np.mean(train_qs.apply(lambda x: '.' in x))\n",
    "capital_first = np.mean(train_qs.apply(lambda x: x[0].isupper()))\n",
    "capitals = np.mean(train_qs.apply(lambda x: max([y.isupper() for y in x])))\n",
    "numbers = np.mean(train_qs.apply(lambda x: max([y.isdigit() for y in x])))\n",
    "\n",
    "print('Questions with question marks: {:.2f}%'.format(qmarks * 100))\n",
    "print('Questions with [math] tags: {:.2f}%'.format(math * 100))\n",
    "print('Questions with full stops: {:.2f}%'.format(fullstop * 100))\n",
    "print('Questions with capitalised first letters: {:.2f}%'.format(capital_first * 100))\n",
    "print('Questions with capital letters: {:.2f}%'.format(capitals * 100))\n",
    "print('Questions with numbers: {:.2f}%'.format(numbers * 100))"
   ]
  },
  {
   "cell_type": "markdown",
   "metadata": {},
   "source": [
    "## Word share"
   ]
  },
  {
   "cell_type": "code",
   "execution_count": 16,
   "metadata": {},
   "outputs": [
    {
     "name": "stdout",
     "output_type": "stream",
     "text": [
      "time: 20.6 s\n"
     ]
    }
   ],
   "source": [
    "def normalized_word_share(row):\n",
    "    w1 = set(map(lambda word: word.lower().strip(), row['question1'].split()))\n",
    "    w2 = set(map(lambda word: word.lower().strip(), row['question2'].split()))    \n",
    "    return 1.0 * len(w1 & w2)/(len(w1) + len(w2))\n",
    "\n",
    "df_train.fillna('',inplace=True)\n",
    "df_train['word_share']=df_train.apply(normalized_word_share, axis=1)\n"
   ]
  },
  {
   "cell_type": "code",
   "execution_count": 17,
   "metadata": {},
   "outputs": [
    {
     "data": {
      "text/html": [
       "<div>\n",
       "<style>\n",
       "    .dataframe thead tr:only-child th {\n",
       "        text-align: right;\n",
       "    }\n",
       "\n",
       "    .dataframe thead th {\n",
       "        text-align: left;\n",
       "    }\n",
       "\n",
       "    .dataframe tbody tr th {\n",
       "        vertical-align: top;\n",
       "    }\n",
       "</style>\n",
       "<table border=\"1\" class=\"dataframe\">\n",
       "  <thead>\n",
       "    <tr style=\"text-align: right;\">\n",
       "      <th></th>\n",
       "      <th>id</th>\n",
       "      <th>qid1</th>\n",
       "      <th>qid2</th>\n",
       "      <th>question1</th>\n",
       "      <th>question2</th>\n",
       "      <th>is_duplicate</th>\n",
       "      <th>word_share</th>\n",
       "    </tr>\n",
       "  </thead>\n",
       "  <tbody>\n",
       "    <tr>\n",
       "      <th>0</th>\n",
       "      <td>0</td>\n",
       "      <td>1</td>\n",
       "      <td>2</td>\n",
       "      <td>What is the step by step guide to invest in sh...</td>\n",
       "      <td>What is the step by step guide to invest in sh...</td>\n",
       "      <td>0</td>\n",
       "      <td>0.434783</td>\n",
       "    </tr>\n",
       "    <tr>\n",
       "      <th>1</th>\n",
       "      <td>1</td>\n",
       "      <td>3</td>\n",
       "      <td>4</td>\n",
       "      <td>What is the story of Kohinoor (Koh-i-Noor) Dia...</td>\n",
       "      <td>What would happen if the Indian government sto...</td>\n",
       "      <td>0</td>\n",
       "      <td>0.200000</td>\n",
       "    </tr>\n",
       "    <tr>\n",
       "      <th>2</th>\n",
       "      <td>2</td>\n",
       "      <td>5</td>\n",
       "      <td>6</td>\n",
       "      <td>How can I increase the speed of my internet co...</td>\n",
       "      <td>How can Internet speed be increased by hacking...</td>\n",
       "      <td>0</td>\n",
       "      <td>0.166667</td>\n",
       "    </tr>\n",
       "    <tr>\n",
       "      <th>3</th>\n",
       "      <td>3</td>\n",
       "      <td>7</td>\n",
       "      <td>8</td>\n",
       "      <td>Why am I mentally very lonely? How can I solve...</td>\n",
       "      <td>Find the remainder when [math]23^{24}[/math] i...</td>\n",
       "      <td>0</td>\n",
       "      <td>0.000000</td>\n",
       "    </tr>\n",
       "    <tr>\n",
       "      <th>4</th>\n",
       "      <td>4</td>\n",
       "      <td>9</td>\n",
       "      <td>10</td>\n",
       "      <td>Which one dissolve in water quikly sugar, salt...</td>\n",
       "      <td>Which fish would survive in salt water?</td>\n",
       "      <td>0</td>\n",
       "      <td>0.100000</td>\n",
       "    </tr>\n",
       "  </tbody>\n",
       "</table>\n",
       "</div>"
      ],
      "text/plain": [
       "   id  qid1  qid2                                          question1  \\\n",
       "0   0     1     2  What is the step by step guide to invest in sh...   \n",
       "1   1     3     4  What is the story of Kohinoor (Koh-i-Noor) Dia...   \n",
       "2   2     5     6  How can I increase the speed of my internet co...   \n",
       "3   3     7     8  Why am I mentally very lonely? How can I solve...   \n",
       "4   4     9    10  Which one dissolve in water quikly sugar, salt...   \n",
       "\n",
       "                                           question2  is_duplicate  word_share  \n",
       "0  What is the step by step guide to invest in sh...             0    0.434783  \n",
       "1  What would happen if the Indian government sto...             0    0.200000  \n",
       "2  How can Internet speed be increased by hacking...             0    0.166667  \n",
       "3  Find the remainder when [math]23^{24}[/math] i...             0    0.000000  \n",
       "4            Which fish would survive in salt water?             0    0.100000  "
      ]
     },
     "execution_count": 17,
     "metadata": {},
     "output_type": "execute_result"
    },
    {
     "name": "stdout",
     "output_type": "stream",
     "text": [
      "time: 18 ms\n"
     ]
    }
   ],
   "source": [
    "df_train.head()"
   ]
  },
  {
   "cell_type": "code",
   "execution_count": null,
   "metadata": {},
   "outputs": [],
   "source": []
  },
  {
   "cell_type": "code",
   "execution_count": 18,
   "metadata": {},
   "outputs": [
    {
     "name": "stdout",
     "output_type": "stream",
     "text": [
      "time: 30.2 s\n"
     ]
    }
   ],
   "source": [
    "from nltk.corpus import stopwords\n",
    "df_train.fillna('',inplace=True)\n",
    "stops = set(stopwords.words(\"english\"))\n",
    "\n",
    "def word_match_share(row):\n",
    "    q1words = {}\n",
    "    q2words = {}\n",
    "    for word in str(row['question1']).lower().split():\n",
    "        if word not in stops:\n",
    "            q1words[word] = 1\n",
    "    for word in str(row['question2']).lower().split():\n",
    "        if word not in stops:\n",
    "            q2words[word] = 1\n",
    "    if len(q1words) == 0 or len(q2words) == 0:\n",
    "        # The computer-generated chaff includes a few questions that are nothing but stopwords\n",
    "        return 0\n",
    "    shared_words_in_q1 = [w for w in q1words.keys() if w in q2words]\n",
    "    shared_words_in_q2 = [w for w in q2words.keys() if w in q1words]\n",
    "    R = float(len(shared_words_in_q1) + len(shared_words_in_q2))/(len(q1words) + len(q2words))\n",
    "    return R\n",
    "\n",
    "\n",
    "train_word_match = df_train.apply(word_match_share, axis=1 ,raw=True)\n"
   ]
  },
  {
   "cell_type": "code",
   "execution_count": 19,
   "metadata": {},
   "outputs": [
    {
     "name": "stdout",
     "output_type": "stream",
     "text": [
      "0    0.727273\n",
      "1    0.307692\n",
      "2    0.363636\n",
      "3    0.000000\n",
      "4    0.000000\n",
      "dtype: float64 \n",
      "404290\n",
      "time: 5 ms\n"
     ]
    }
   ],
   "source": [
    "\n",
    "print train_word_match.head(),'\\n' ,len(train_word_match)"
   ]
  },
  {
   "cell_type": "code",
   "execution_count": 20,
   "metadata": {},
   "outputs": [
    {
     "name": "stdout",
     "output_type": "stream",
     "text": [
      "time: 75 ms\n"
     ]
    }
   ],
   "source": [
    "\n",
    "#len(obj.idf_),len(train_qs),len(obj.get_feature_names()),len(set(words))"
   ]
  },
  {
   "cell_type": "code",
   "execution_count": 21,
   "metadata": {},
   "outputs": [
    {
     "name": "stdout",
     "output_type": "stream",
     "text": [
      "time: 31.1 s\n"
     ]
    }
   ],
   "source": [
    "from collections import Counter\n",
    "\n",
    "# If a word appears only once, we ignore it completely (likely a typo)\n",
    "# Epsilon defines a smoothing constant, which makes the effect of extremely rare words smaller\n",
    "def get_weight(count, eps=10000, min_count=2):\n",
    "    if count < min_count:\n",
    "        return 0\n",
    "    else:\n",
    "        return 1 / float(count + eps)\n",
    "\n",
    "eps = 5000 \n",
    "words = (\" \".join(train_qs)).lower().split()\n",
    "counts = Counter(words)\n",
    "weights = {word: get_weight(count) for word, count in counts.items()}"
   ]
  },
  {
   "cell_type": "code",
   "execution_count": 22,
   "metadata": {},
   "outputs": [
    {
     "name": "stdout",
     "output_type": "stream",
     "text": [
      "201105 8944593\n",
      "time: 3 ms\n"
     ]
    }
   ],
   "source": [
    "print len(weights),len(words)\n"
   ]
  },
  {
   "cell_type": "code",
   "execution_count": 23,
   "metadata": {},
   "outputs": [
    {
     "name": "stdout",
     "output_type": "stream",
     "text": [
      "Most common words and weights: \n",
      "\n",
      "[('the', 2.5891040146646852e-06), ('what', 3.115623919267953e-06), ('is', 3.5861702928825277e-06), ('how', 4.366449945201053e-06), ('i', 4.4805878531263305e-06), ('a', 4.540645588989843e-06), ('to', 4.671434644293609e-06), ('in', 4.884625153865692e-06), ('of', 5.920242493132519e-06), ('do', 6.070908207867897e-06)]\n",
      "\n",
      "Least common words and weights: \n"
     ]
    },
    {
     "data": {
      "text/plain": [
       "[('kernel:', 9.998000399920016e-05),\n",
       " ('chameleons', 9.998000399920016e-05),\n",
       " ('275', 9.998000399920016e-05),\n",
       " ('276', 9.998000399920016e-05),\n",
       " ('kid:', 9.998000399920016e-05),\n",
       " ('usenet', 9.998000399920016e-05),\n",
       " ('(football', 9.998000399920016e-05),\n",
       " ('sneha', 9.998000399920016e-05),\n",
       " ('population)', 9.998000399920016e-05),\n",
       " (',delhi', 9.998000399920016e-05)]"
      ]
     },
     "execution_count": 23,
     "metadata": {},
     "output_type": "execute_result"
    },
    {
     "name": "stdout",
     "output_type": "stream",
     "text": [
      "time: 1.31 s\n"
     ]
    }
   ],
   "source": [
    "print('Most common words and weights: \\n')\n",
    "print(sorted(weights.items(), key=lambda x: x[1] if x[1] > 0 else 9999)[:10])\n",
    "print('\\nLeast common words and weights: ')\n",
    "(sorted(weights.items(), key=lambda x: x[1], reverse=True)[:10])"
   ]
  },
  {
   "cell_type": "code",
   "execution_count": 24,
   "metadata": {},
   "outputs": [
    {
     "name": "stdout",
     "output_type": "stream",
     "text": [
      "time: 14 ms\n"
     ]
    }
   ],
   "source": [
    "def tfidf_word_match_share(row):\n",
    "    q1words = {}\n",
    "    q2words = {}\n",
    "    for word in str(row['question1']).lower().split():\n",
    "        if word not in stops:\n",
    "            q1words[word] = 1\n",
    "    for word in str(row['question2']).lower().split():\n",
    "        if word not in stops:\n",
    "            q2words[word] = 1\n",
    "    if len(q1words) == 0 or len(q2words) == 0:\n",
    "        # The computer-generated chaff includes a few questions that are nothing but stopwords\n",
    "        return 0\n",
    "    \n",
    "    shared_weights = [weights.get(w, 0) for w in q1words.keys() if w in q2words] + [weights.get(w, 0) for w in q2words.keys() if w in q1words]\n",
    "    total_weights = [weights.get(w, 0) for w in q1words] + [weights.get(w, 0) for w in q2words]\n",
    "    \n",
    "    R = np.sum(shared_weights) / np.sum(total_weights)\n",
    "    return R"
   ]
  },
  {
   "cell_type": "code",
   "execution_count": 25,
   "metadata": {},
   "outputs": [
    {
     "name": "stdout",
     "output_type": "stream",
     "text": [
      "time: 103 ms\n"
     ]
    }
   ],
   "source": [
    "from sklearn.feature_extraction.text import TfidfVectorizer\n",
    "obj = TfidfVectorizer()\n",
    "corpus = train_qs\n",
    "#X = obj.fit_transform(corpus)\n",
    "\n"
   ]
  },
  {
   "cell_type": "code",
   "execution_count": 26,
   "metadata": {},
   "outputs": [
    {
     "name": "stdout",
     "output_type": "stream",
     "text": [
      "time: 33.4 s\n"
     ]
    }
   ],
   "source": [
    "\n",
    "tfidf_train_word_match = df_train.apply(tfidf_word_match_share, axis=1)\n"
   ]
  },
  {
   "cell_type": "code",
   "execution_count": 27,
   "metadata": {},
   "outputs": [
    {
     "data": {
      "text/plain": [
       "(0    0.772164\n",
       " 1    0.361758\n",
       " 2    0.355191\n",
       " 3    0.000000\n",
       " 4    0.000000\n",
       " dtype: float64, 404290)"
      ]
     },
     "execution_count": 27,
     "metadata": {},
     "output_type": "execute_result"
    },
    {
     "name": "stdout",
     "output_type": "stream",
     "text": [
      "time: 5 ms\n"
     ]
    }
   ],
   "source": [
    "tfidf_train_word_match.head(),len(tfidf_train_word_match)"
   ]
  },
  {
   "cell_type": "code",
   "execution_count": 28,
   "metadata": {},
   "outputs": [
    {
     "name": "stdout",
     "output_type": "stream",
     "text": [
      "time: 8min 55s\n"
     ]
    }
   ],
   "source": [
    "# First we create our training and testing data\n",
    "x_train = pd.DataFrame()\n",
    "x_test = pd.DataFrame()\n",
    "x_train['word_match'] = train_word_match\n",
    "x_train['tfidf_word_match'] = tfidf_train_word_match\n",
    "x_test['word_match'] = df_test.apply(word_match_share, axis=1, raw=True)\n",
    "x_test['tfidf_word_match'] = df_test.apply(tfidf_word_match_share, axis=1, raw=True)\n",
    "\n",
    "y_train = df_train['is_duplicate'].values"
   ]
  },
  {
   "cell_type": "code",
   "execution_count": 29,
   "metadata": {},
   "outputs": [
    {
     "name": "stdout",
     "output_type": "stream",
     "text": [
      "<class 'pandas.core.frame.DataFrame'>\n",
      "RangeIndex: 404290 entries, 0 to 404289\n",
      "Data columns (total 2 columns):\n",
      "word_match          404290 non-null float64\n",
      "tfidf_word_match    404270 non-null float64\n",
      "dtypes: float64(2)\n",
      "memory usage: 6.2 MB\n",
      "<class 'pandas.core.frame.DataFrame'>\n",
      "RangeIndex: 2345796 entries, 0 to 2345795\n",
      "Data columns (total 2 columns):\n",
      "word_match          float64\n",
      "tfidf_word_match    float64\n",
      "dtypes: float64(2)\n",
      "memory usage: 35.8 MB\n"
     ]
    },
    {
     "data": {
      "text/plain": [
       "(None, None)"
      ]
     },
     "execution_count": 29,
     "metadata": {},
     "output_type": "execute_result"
    },
    {
     "name": "stdout",
     "output_type": "stream",
     "text": [
      "time: 3.1 s\n"
     ]
    }
   ],
   "source": [
    "x_train.info(),x_test.info()"
   ]
  },
  {
   "cell_type": "code",
   "execution_count": 84,
   "metadata": {},
   "outputs": [
    {
     "name": "stdout",
     "output_type": "stream",
     "text": [
      "time: 2.16 s\n"
     ]
    }
   ],
   "source": [
    "df_train['question1'].fillna('',inplace=True)\n",
    "df_test['question1'].fillna('',inplace=True)"
   ]
  },
  {
   "cell_type": "code",
   "execution_count": 94,
   "metadata": {},
   "outputs": [
    {
     "name": "stdout",
     "output_type": "stream",
     "text": [
      "time: 1.1 s\n"
     ]
    }
   ],
   "source": [
    "df_test['question2']=df_test['question2'].apply(lambda l:str(l))"
   ]
  },
  {
   "cell_type": "code",
   "execution_count": 97,
   "metadata": {},
   "outputs": [
    {
     "name": "stdout",
     "output_type": "stream",
     "text": [
      "time: 6.6 s\n"
     ]
    }
   ],
   "source": [
    "trainqs=df_train['question1']+' '+df_train['question2']\n",
    "testqs=df_test['question1']+' '+df_test['question2']"
   ]
  },
  {
   "cell_type": "code",
   "execution_count": 89,
   "metadata": {},
   "outputs": [
    {
     "name": "stdout",
     "output_type": "stream",
     "text": [
      "time: 8.8 s\n"
     ]
    }
   ],
   "source": [
    "x_train['wordsPerQ']=trainqs.apply(lambda x: len(x.split(' ')))\n",
    "x_train['charPerQ']=trainqs.apply(len)\n",
    "x_test['wordsPerQ']=testqs.apply(lambda x: len(str(x).split(' ')))\n",
    "x_test['charPerQ']=testqs.apply(lambda x:len(str(x)))\n"
   ]
  },
  {
   "cell_type": "code",
   "execution_count": 90,
   "metadata": {},
   "outputs": [
    {
     "name": "stdout",
     "output_type": "stream",
     "text": [
      "time: 1.8 s\n"
     ]
    }
   ],
   "source": [
    "x_train['wordsPerQ1']=df_train['question1'].apply(lambda x: len(x.split(' ')))\n",
    "x_train['wordsPerQ2']=df_train['question2'].apply(lambda x: len(x.split(' ')))\n",
    "x_train['charPerQ1']=df_train['question1'].apply(len)\n",
    "x_train['charPerQ2']=df_train['question2'].apply(len)\n"
   ]
  },
  {
   "cell_type": "code",
   "execution_count": 92,
   "metadata": {},
   "outputs": [
    {
     "name": "stdout",
     "output_type": "stream",
     "text": [
      "time: 8.52 s\n"
     ]
    }
   ],
   "source": [
    "x_test['wordsPerQ1']=df_test['question1'].apply(lambda x: len(x.split(' ')))\n",
    "x_test['wordsPerQ2']=df_test['question2'].apply(lambda x: len(str(x).split(' ')))\n",
    "x_test['charPerQ1']=df_test['question1'].apply(len)\n",
    "x_test['charPerQ2']=df_test['question2'].apply(lambda x:len(str(x)))"
   ]
  },
  {
   "cell_type": "code",
   "execution_count": 95,
   "metadata": {},
   "outputs": [
    {
     "name": "stdout",
     "output_type": "stream",
     "text": [
      "time: 1min 25s\n"
     ]
    }
   ],
   "source": [
    "x_train['Nqmarks1'] = df_train['question1'].apply(lambda x:x.count('?') )\n",
    "x_train['Nqmarks2'] = df_train['question2'].apply(lambda x:x.count('?'))\n",
    "x_train['Nmath1'] = df_train['question1'].apply(lambda x: x.count('[math]'))\n",
    "x_train['Nmath2'] = df_train['question2'].apply(lambda x: x.count('[math]'))\n",
    "x_train['Nfullstop1'] =  df_train['question1'].apply(lambda x: x.count('.'))\n",
    "x_train['Nfullstop2'] =  df_train['question2'].apply(lambda x: x.count('.'))\n",
    "x_train['Ncapitals1'] =df_train['question1'].apply(lambda x: sum(1 for c in x if c.isupper()))\n",
    "x_train['Ncapitals2'] =df_train['question2'].apply(lambda x: sum(1 for c in x if c.isupper()))\n",
    "x_train['Ndigits1'] = df_train['question1'].apply(lambda x: sum(c.isdigit() for c in x))\n",
    "x_train['Ndigits2'] = df_train['question2'].apply(lambda x: sum(c.isdigit() for c in x))\n",
    "\n",
    "\n",
    "\n",
    "\n",
    "x_test['Nqmarks1'] = df_test['question1'].apply(lambda x:x.count('?') )\n",
    "x_test['Nqmarks2'] = df_test['question2'].apply(lambda x:x.count('?'))\n",
    "x_test['Nmath1'] = df_test['question1'].apply(lambda x: x.count('[math]'))\n",
    "x_test['Nmath2'] = df_test['question2'].apply(lambda x: x.count('[math]'))\n",
    "x_test['Nfullstop1'] =  df_test['question1'].apply(lambda x: x.count('.'))\n",
    "x_test['Nfullstop2'] =  df_test['question2'].apply(lambda x: x.count('.'))\n",
    "x_test['Ncapitals1'] =df_test['question1'].apply(lambda x: sum(1 for c in x if c.isupper()))\n",
    "x_test['Ncapitals2'] =df_test['question2'].apply(lambda x: sum(1 for c in x if c.isupper()))\n",
    "x_test['Ndigits1'] = df_test['question1'].apply(lambda x: sum(c.isdigit() for c in x))\n",
    "x_test['Ndigits2'] = df_test['question2'].apply(lambda x: sum(c.isdigit() for c in x))"
   ]
  },
  {
   "cell_type": "code",
   "execution_count": 98,
   "metadata": {},
   "outputs": [
    {
     "name": "stdout",
     "output_type": "stream",
     "text": [
      "time: 1min 51s\n"
     ]
    }
   ],
   "source": [
    "x_train['qmarks'] = trainqs.apply(lambda x: 1 if '?' in x else 0)\n",
    "x_train['math'] = trainqs.apply(lambda x: 1 if '[math]' in x else 0)\n",
    "x_train['fullstop'] = trainqs.apply(lambda x: 1 if '.' in x else 0)\n",
    "x_train['capital_first'] = trainqs.apply(lambda x: 1 if x[0].isupper() else 0)\n",
    "x_train['capitals'] = trainqs.apply(lambda x: 1 if max([y.isupper() for y in x]) else 0)\n",
    "x_train['numbers'] = trainqs.apply(lambda x: 1 if max([y.isdigit() for y in x])else 0)\n",
    "\n",
    "\n",
    "x_test['qmarks'] = testqs.apply(lambda x: 1 if '?' in x else 0)\n",
    "x_test['math'] = testqs.apply(lambda x: 1 if '[math]' in x else 0)\n",
    "x_test['fullstop'] = testqs.apply(lambda x: 1 if '.' in x else 0)\n",
    "x_test['capital_first'] = testqs.apply(lambda x: 1 if x[0].isupper() else 0)\n",
    "x_test['capitals'] = testqs.apply(lambda x: 1 if max([y.isupper() for y in x]) else 0)\n",
    "x_test['numbers'] = testqs.apply(lambda x: 1 if  max([y.isdigit() for y in x]) else 0)"
   ]
  },
  {
   "cell_type": "code",
   "execution_count": 80,
   "metadata": {},
   "outputs": [
    {
     "name": "stdout",
     "output_type": "stream",
     "text": [
      "Error in callback <bound method LineWatcher.stop of <autotime.LineWatcher object at 0x000000000B6B5908>> (for post_run_cell):\n"
     ]
    },
    {
     "ename": "AssertionError",
     "evalue": "",
     "output_type": "error",
     "traceback": [
      "\u001b[1;31m---------------------------------------------------------------------------\u001b[0m",
      "\u001b[1;31mAssertionError\u001b[0m                            Traceback (most recent call last)",
      "\u001b[1;32mC:\\Users\\sushant\\.ipython\\extensions\\autotime.pyc\u001b[0m in \u001b[0;36mstop\u001b[1;34m(self)\u001b[0m\n\u001b[0;32m     23\u001b[0m         \u001b[1;32mif\u001b[0m \u001b[0mself\u001b[0m\u001b[1;33m.\u001b[0m\u001b[0mstart_time\u001b[0m\u001b[1;33m:\u001b[0m\u001b[1;33m\u001b[0m\u001b[0m\n\u001b[0;32m     24\u001b[0m             \u001b[0mdiff\u001b[0m \u001b[1;33m=\u001b[0m \u001b[0mtime\u001b[0m\u001b[1;33m.\u001b[0m\u001b[0mtime\u001b[0m\u001b[1;33m(\u001b[0m\u001b[1;33m)\u001b[0m \u001b[1;33m-\u001b[0m \u001b[0mself\u001b[0m\u001b[1;33m.\u001b[0m\u001b[0mstart_time\u001b[0m\u001b[1;33m\u001b[0m\u001b[0m\n\u001b[1;32m---> 25\u001b[1;33m             \u001b[1;32massert\u001b[0m \u001b[0mdiff\u001b[0m \u001b[1;33m>\u001b[0m \u001b[1;36m0\u001b[0m\u001b[1;33m\u001b[0m\u001b[0m\n\u001b[0m\u001b[0;32m     26\u001b[0m             \u001b[1;32mprint\u001b[0m\u001b[1;33m(\u001b[0m\u001b[1;34m'time: %s'\u001b[0m \u001b[1;33m%\u001b[0m \u001b[0mformat_delta\u001b[0m\u001b[1;33m(\u001b[0m\u001b[0mdiff\u001b[0m\u001b[1;33m)\u001b[0m\u001b[1;33m)\u001b[0m\u001b[1;33m\u001b[0m\u001b[0m\n\u001b[0;32m     27\u001b[0m \u001b[1;33m\u001b[0m\u001b[0m\n",
      "\u001b[1;31mAssertionError\u001b[0m: "
     ]
    }
   ],
   "source": [
    "#x_train=x_train.replace(to_replace=True, value=1)\n",
    "#x_train=x_train.replace(to_replace=False, value=0)\n",
    "\n",
    "#x_test=x_test.replace(to_replace=True, value=1)\n",
    "#x_test=x_test.replace(to_replace=False, value=0)"
   ]
  },
  {
   "cell_type": "code",
   "execution_count": 99,
   "metadata": {},
   "outputs": [
    {
     "data": {
      "text/plain": [
       "(    word_match  tfidf_word_match  wordsPerQ  charPerQ  qmarks  math  fullstop  \\\n",
       " 5     0.470588          0.510771         32       177       1     0         1   \n",
       " 7     0.500000          0.645836         16        72       1     0         0   \n",
       " 11    0.571429          0.654071         17        82       1     0         0   \n",
       " 12    1.000000          1.000000         15        76       1     0         0   \n",
       " 13    0.571429          0.536457         13        82       1     0         0   \n",
       " \n",
       "     capital_first  capitals  numbers    ...     Nqmarks1  Nqmarks2  Nmath1  \\\n",
       " 5               1         1        0    ...            1         1       0   \n",
       " 7               1         1        0    ...            1         1       0   \n",
       " 11              1         1        0    ...            1         1       0   \n",
       " 12              1         1        0    ...            1         1       0   \n",
       " 13              1         1        0    ...            1         1       0   \n",
       " \n",
       "     Nmath2  Nfullstop1  Nfullstop2  Ncapitals1  Ncapitals2  Ndigits1  Ndigits2  \n",
       " 5        0           3           0           5           6         0         0  \n",
       " 7        0           0           0           2           2         0         0  \n",
       " 11       0           0           0           4           3         0         0  \n",
       " 12       0           0           0           2           1         0         0  \n",
       " 13       0           0           0           1           1         0         0  \n",
       " \n",
       " [5 rows x 24 columns],\n",
       "    word_match  tfidf_word_match  wordsPerQ  charPerQ  qmarks  math  fullstop  \\\n",
       " 0    0.266667          0.274019         25       126       1     0         0   \n",
       " 1    0.500000          0.480962         21       110       1     0         0   \n",
       " 2    0.444444          0.468893         20        90       1     0         0   \n",
       " 3    0.000000          0.000000          7        45       1     0         0   \n",
       " 4    0.800000          1.000000         10        63       1     0         0   \n",
       " \n",
       "    capital_first  capitals  numbers    ...     Nqmarks1  Nqmarks2  Nmath1  \\\n",
       " 0              1         1        1    ...            1         1       0   \n",
       " 1              1         1        1    ...            2         1       0   \n",
       " 2              1         1        0    ...            1         1       0   \n",
       " 3              1         1        0    ...            1         1       0   \n",
       " 4              1         1        0    ...            1         1       0   \n",
       " \n",
       "    Nmath2  Nfullstop1  Nfullstop2  Ncapitals1  Ncapitals2  Ndigits1  Ndigits2  \n",
       " 0       0           0           0           5           4         1         3  \n",
       " 1       0           0           0           3           1         2         0  \n",
       " 2       0           0           0           4           2         0         0  \n",
       " 3       0           0           0           1           1         0         0  \n",
       " 4       0           0           0           1           2         0         0  \n",
       " \n",
       " [5 rows x 24 columns])"
      ]
     },
     "execution_count": 99,
     "metadata": {},
     "output_type": "execute_result"
    },
    {
     "name": "stdout",
     "output_type": "stream",
     "text": [
      "time: 2.83 s\n"
     ]
    }
   ],
   "source": [
    "x_train.head(),x_test.head()"
   ]
  },
  {
   "cell_type": "code",
   "execution_count": 38,
   "metadata": {},
   "outputs": [
    {
     "data": {
      "text/plain": [
       "0         1\n",
       "1         1\n",
       "2         1\n",
       "3         1\n",
       "4         1\n",
       "5         1\n",
       "6         1\n",
       "7         1\n",
       "8         1\n",
       "9         1\n",
       "10        1\n",
       "11        1\n",
       "12        1\n",
       "13        1\n",
       "14        1\n",
       "15        1\n",
       "16        1\n",
       "17        1\n",
       "18        1\n",
       "19        1\n",
       "20        1\n",
       "21        1\n",
       "22        1\n",
       "23        1\n",
       "24        1\n",
       "25        1\n",
       "26        1\n",
       "27        1\n",
       "28        1\n",
       "29        1\n",
       "         ..\n",
       "808550    1\n",
       "808551    1\n",
       "808552    1\n",
       "808553    1\n",
       "808554    1\n",
       "808555    1\n",
       "808556    1\n",
       "808557    1\n",
       "808558    1\n",
       "808559    1\n",
       "808560    1\n",
       "808561    1\n",
       "808562    1\n",
       "808563    1\n",
       "808564    1\n",
       "808565    1\n",
       "808566    1\n",
       "808567    1\n",
       "808568    1\n",
       "808569    1\n",
       "808570    1\n",
       "808571    1\n",
       "808572    1\n",
       "808573    1\n",
       "808574    1\n",
       "808575    1\n",
       "808576    1\n",
       "808577    1\n",
       "808578    1\n",
       "808579    1\n",
       "Length: 808580, dtype: int64"
      ]
     },
     "execution_count": 38,
     "metadata": {},
     "output_type": "execute_result"
    },
    {
     "name": "stdout",
     "output_type": "stream",
     "text": [
      "time: 688 ms\n"
     ]
    }
   ],
   "source": [
    "#train_qs.apply(lambda x: 1)#.sum()"
   ]
  },
  {
   "cell_type": "code",
   "execution_count": 35,
   "metadata": {},
   "outputs": [
    {
     "name": "stdout",
     "output_type": "stream",
     "text": [
      "<class 'pandas.core.frame.DataFrame'>\n",
      "RangeIndex: 404290 entries, 0 to 404289\n",
      "Data columns (total 10 columns):\n",
      "word_match          404290 non-null float64\n",
      "tfidf_word_match    404270 non-null float64\n",
      "wordsPerQ           404290 non-null int64\n",
      "charPerQ            404290 non-null int64\n",
      "qmarks              404290 non-null int64\n",
      "math                404290 non-null int64\n",
      "fullstop            404290 non-null int64\n",
      "capital_first       404290 non-null int64\n",
      "capitals            404290 non-null int64\n",
      "numbers             404290 non-null int64\n",
      "dtypes: float64(2), int64(8)\n",
      "memory usage: 30.8 MB\n",
      "time: 739 ms\n"
     ]
    }
   ],
   "source": [
    "x_train.info()"
   ]
  },
  {
   "cell_type": "code",
   "execution_count": 113,
   "metadata": {},
   "outputs": [
    {
     "name": "stdout",
     "output_type": "stream",
     "text": [
      "Error in callback <bound method LineWatcher.stop of <autotime.LineWatcher object at 0x000000000B6B5908>> (for post_run_cell):\n"
     ]
    },
    {
     "ename": "AssertionError",
     "evalue": "",
     "output_type": "error",
     "traceback": [
      "\u001b[1;31m---------------------------------------------------------------------------\u001b[0m",
      "\u001b[1;31mAssertionError\u001b[0m                            Traceback (most recent call last)",
      "\u001b[1;32mC:\\Users\\sushant\\.ipython\\extensions\\autotime.pyc\u001b[0m in \u001b[0;36mstop\u001b[1;34m(self)\u001b[0m\n\u001b[0;32m     23\u001b[0m         \u001b[1;32mif\u001b[0m \u001b[0mself\u001b[0m\u001b[1;33m.\u001b[0m\u001b[0mstart_time\u001b[0m\u001b[1;33m:\u001b[0m\u001b[1;33m\u001b[0m\u001b[0m\n\u001b[0;32m     24\u001b[0m             \u001b[0mdiff\u001b[0m \u001b[1;33m=\u001b[0m \u001b[0mtime\u001b[0m\u001b[1;33m.\u001b[0m\u001b[0mtime\u001b[0m\u001b[1;33m(\u001b[0m\u001b[1;33m)\u001b[0m \u001b[1;33m-\u001b[0m \u001b[0mself\u001b[0m\u001b[1;33m.\u001b[0m\u001b[0mstart_time\u001b[0m\u001b[1;33m\u001b[0m\u001b[0m\n\u001b[1;32m---> 25\u001b[1;33m             \u001b[1;32massert\u001b[0m \u001b[0mdiff\u001b[0m \u001b[1;33m>\u001b[0m \u001b[1;36m0\u001b[0m\u001b[1;33m\u001b[0m\u001b[0m\n\u001b[0m\u001b[0;32m     26\u001b[0m             \u001b[1;32mprint\u001b[0m\u001b[1;33m(\u001b[0m\u001b[1;34m'time: %s'\u001b[0m \u001b[1;33m%\u001b[0m \u001b[0mformat_delta\u001b[0m\u001b[1;33m(\u001b[0m\u001b[0mdiff\u001b[0m\u001b[1;33m)\u001b[0m\u001b[1;33m)\u001b[0m\u001b[1;33m\u001b[0m\u001b[0m\n\u001b[0;32m     27\u001b[0m \u001b[1;33m\u001b[0m\u001b[0m\n",
      "\u001b[1;31mAssertionError\u001b[0m: "
     ]
    }
   ],
   "source": [
    "#y_train[7000:] "
   ]
  },
  {
   "cell_type": "code",
   "execution_count": 114,
   "metadata": {},
   "outputs": [
    {
     "data": {
      "text/html": [
       "<div>\n",
       "<style>\n",
       "    .dataframe thead tr:only-child th {\n",
       "        text-align: right;\n",
       "    }\n",
       "\n",
       "    .dataframe thead th {\n",
       "        text-align: left;\n",
       "    }\n",
       "\n",
       "    .dataframe tbody tr th {\n",
       "        vertical-align: top;\n",
       "    }\n",
       "</style>\n",
       "<table border=\"1\" class=\"dataframe\">\n",
       "  <thead>\n",
       "    <tr style=\"text-align: right;\">\n",
       "      <th></th>\n",
       "      <th>word_match</th>\n",
       "      <th>tfidf_word_match</th>\n",
       "      <th>wordsPerQ</th>\n",
       "      <th>charPerQ</th>\n",
       "      <th>qmarks</th>\n",
       "      <th>math</th>\n",
       "      <th>fullstop</th>\n",
       "      <th>capital_first</th>\n",
       "      <th>capitals</th>\n",
       "      <th>numbers</th>\n",
       "      <th>...</th>\n",
       "      <th>Nqmarks1</th>\n",
       "      <th>Nqmarks2</th>\n",
       "      <th>Nmath1</th>\n",
       "      <th>Nmath2</th>\n",
       "      <th>Nfullstop1</th>\n",
       "      <th>Nfullstop2</th>\n",
       "      <th>Ncapitals1</th>\n",
       "      <th>Ncapitals2</th>\n",
       "      <th>Ndigits1</th>\n",
       "      <th>Ndigits2</th>\n",
       "    </tr>\n",
       "  </thead>\n",
       "  <tbody>\n",
       "    <tr>\n",
       "      <th>5</th>\n",
       "      <td>0.470588</td>\n",
       "      <td>0.510771</td>\n",
       "      <td>32</td>\n",
       "      <td>177</td>\n",
       "      <td>1</td>\n",
       "      <td>0</td>\n",
       "      <td>1</td>\n",
       "      <td>1</td>\n",
       "      <td>1</td>\n",
       "      <td>0</td>\n",
       "      <td>...</td>\n",
       "      <td>1</td>\n",
       "      <td>1</td>\n",
       "      <td>0</td>\n",
       "      <td>0</td>\n",
       "      <td>3</td>\n",
       "      <td>0</td>\n",
       "      <td>5</td>\n",
       "      <td>6</td>\n",
       "      <td>0</td>\n",
       "      <td>0</td>\n",
       "    </tr>\n",
       "    <tr>\n",
       "      <th>7</th>\n",
       "      <td>0.500000</td>\n",
       "      <td>0.645836</td>\n",
       "      <td>16</td>\n",
       "      <td>72</td>\n",
       "      <td>1</td>\n",
       "      <td>0</td>\n",
       "      <td>0</td>\n",
       "      <td>1</td>\n",
       "      <td>1</td>\n",
       "      <td>0</td>\n",
       "      <td>...</td>\n",
       "      <td>1</td>\n",
       "      <td>1</td>\n",
       "      <td>0</td>\n",
       "      <td>0</td>\n",
       "      <td>0</td>\n",
       "      <td>0</td>\n",
       "      <td>2</td>\n",
       "      <td>2</td>\n",
       "      <td>0</td>\n",
       "      <td>0</td>\n",
       "    </tr>\n",
       "    <tr>\n",
       "      <th>11</th>\n",
       "      <td>0.571429</td>\n",
       "      <td>0.654071</td>\n",
       "      <td>17</td>\n",
       "      <td>82</td>\n",
       "      <td>1</td>\n",
       "      <td>0</td>\n",
       "      <td>0</td>\n",
       "      <td>1</td>\n",
       "      <td>1</td>\n",
       "      <td>0</td>\n",
       "      <td>...</td>\n",
       "      <td>1</td>\n",
       "      <td>1</td>\n",
       "      <td>0</td>\n",
       "      <td>0</td>\n",
       "      <td>0</td>\n",
       "      <td>0</td>\n",
       "      <td>4</td>\n",
       "      <td>3</td>\n",
       "      <td>0</td>\n",
       "      <td>0</td>\n",
       "    </tr>\n",
       "    <tr>\n",
       "      <th>12</th>\n",
       "      <td>1.000000</td>\n",
       "      <td>1.000000</td>\n",
       "      <td>15</td>\n",
       "      <td>76</td>\n",
       "      <td>1</td>\n",
       "      <td>0</td>\n",
       "      <td>0</td>\n",
       "      <td>1</td>\n",
       "      <td>1</td>\n",
       "      <td>0</td>\n",
       "      <td>...</td>\n",
       "      <td>1</td>\n",
       "      <td>1</td>\n",
       "      <td>0</td>\n",
       "      <td>0</td>\n",
       "      <td>0</td>\n",
       "      <td>0</td>\n",
       "      <td>2</td>\n",
       "      <td>1</td>\n",
       "      <td>0</td>\n",
       "      <td>0</td>\n",
       "    </tr>\n",
       "    <tr>\n",
       "      <th>13</th>\n",
       "      <td>0.571429</td>\n",
       "      <td>0.536457</td>\n",
       "      <td>13</td>\n",
       "      <td>82</td>\n",
       "      <td>1</td>\n",
       "      <td>0</td>\n",
       "      <td>0</td>\n",
       "      <td>1</td>\n",
       "      <td>1</td>\n",
       "      <td>0</td>\n",
       "      <td>...</td>\n",
       "      <td>1</td>\n",
       "      <td>1</td>\n",
       "      <td>0</td>\n",
       "      <td>0</td>\n",
       "      <td>0</td>\n",
       "      <td>0</td>\n",
       "      <td>1</td>\n",
       "      <td>1</td>\n",
       "      <td>0</td>\n",
       "      <td>0</td>\n",
       "    </tr>\n",
       "  </tbody>\n",
       "</table>\n",
       "<p>5 rows × 24 columns</p>\n",
       "</div>"
      ],
      "text/plain": [
       "    word_match  tfidf_word_match  wordsPerQ  charPerQ  qmarks  math  fullstop  \\\n",
       "5     0.470588          0.510771         32       177       1     0         1   \n",
       "7     0.500000          0.645836         16        72       1     0         0   \n",
       "11    0.571429          0.654071         17        82       1     0         0   \n",
       "12    1.000000          1.000000         15        76       1     0         0   \n",
       "13    0.571429          0.536457         13        82       1     0         0   \n",
       "\n",
       "    capital_first  capitals  numbers    ...     Nqmarks1  Nqmarks2  Nmath1  \\\n",
       "5               1         1        0    ...            1         1       0   \n",
       "7               1         1        0    ...            1         1       0   \n",
       "11              1         1        0    ...            1         1       0   \n",
       "12              1         1        0    ...            1         1       0   \n",
       "13              1         1        0    ...            1         1       0   \n",
       "\n",
       "    Nmath2  Nfullstop1  Nfullstop2  Ncapitals1  Ncapitals2  Ndigits1  Ndigits2  \n",
       "5        0           3           0           5           6         0         0  \n",
       "7        0           0           0           2           2         0         0  \n",
       "11       0           0           0           4           3         0         0  \n",
       "12       0           0           0           2           1         0         0  \n",
       "13       0           0           0           1           1         0         0  \n",
       "\n",
       "[5 rows x 24 columns]"
      ]
     },
     "execution_count": 114,
     "metadata": {},
     "output_type": "execute_result"
    },
    {
     "name": "stdout",
     "output_type": "stream",
     "text": [
      "time: 4.89 s\n"
     ]
    }
   ],
   "source": [
    "x_train[np.array(y_train) == 1.0].head()"
   ]
  },
  {
   "cell_type": "code",
   "execution_count": 115,
   "metadata": {},
   "outputs": [
    {
     "name": "stdout",
     "output_type": "stream",
     "text": [
      "0.169447020773\n",
      "time: 1.97 s\n"
     ]
    }
   ],
   "source": [
    "pos_train = x_train[np.array(y_train) == 1]\n",
    "neg_train = x_train[np.array(y_train) == 0]\n",
    "\n",
    "# Now we oversample the negative class\n",
    "# There is likely a much more elegant way to do this...\n",
    "p = 0.165\n",
    "scale = ((float((len(pos_train))) / (len(pos_train) + len(neg_train))) / p) - 1\n",
    "while scale > 1:\n",
    "    neg_train = pd.concat([neg_train, neg_train])\n",
    "    scale -=1\n",
    "neg_train = pd.concat([neg_train, neg_train[:int(scale * len(neg_train))]])\n",
    "print(float(len(pos_train)) / (len(pos_train) + len(neg_train)))\n",
    "\n"
   ]
  },
  {
   "cell_type": "code",
   "execution_count": 116,
   "metadata": {},
   "outputs": [
    {
     "name": "stdout",
     "output_type": "stream",
     "text": [
      "time: 339 ms\n"
     ]
    }
   ],
   "source": [
    "x_train = pd.concat([pos_train, neg_train])\n",
    "y_train = (np.zeros(len(pos_train)) + 1).tolist() + np.zeros(len(neg_train)).tolist()\n",
    "del pos_train, neg_train"
   ]
  },
  {
   "cell_type": "code",
   "execution_count": 117,
   "metadata": {},
   "outputs": [
    {
     "name": "stderr",
     "output_type": "stream",
     "text": [
      "C:\\Users\\sushant\\Anaconda2\\lib\\site-packages\\sklearn\\cross_validation.py:44: DeprecationWarning:\n",
      "\n",
      "This module was deprecated in version 0.18 in favor of the model_selection module into which all the refactored classes and functions are moved. Also note that the interface of the new CV iterators are different from that of this module. This module will be removed in 0.20.\n",
      "\n"
     ]
    },
    {
     "name": "stdout",
     "output_type": "stream",
     "text": [
      "time: 2.02 s\n"
     ]
    }
   ],
   "source": [
    "# Finally, we split some of the data off for validation\n",
    "from sklearn.cross_validation import train_test_split\n",
    "\n",
    "x_train, x_valid, y_train, y_valid = train_test_split(x_train, y_train, test_size=0.2, random_state=4242)"
   ]
  },
  {
   "cell_type": "code",
   "execution_count": 118,
   "metadata": {},
   "outputs": [
    {
     "name": "stdout",
     "output_type": "stream",
     "text": [
      "[0]\ttrain-logloss:0.682448\tvalid-logloss:0.682451\n",
      "Multiple eval metrics have been passed: 'valid-logloss' will be used for early stopping.\n",
      "\n",
      "Will train until valid-logloss hasn't improved in 20 rounds.\n",
      "[10]\ttrain-logloss:0.595249\tvalid-logloss:0.595271\n",
      "[20]\ttrain-logloss:0.533833\tvalid-logloss:0.53385\n",
      "[30]\ttrain-logloss:0.488663\tvalid-logloss:0.488676\n",
      "[40]\ttrain-logloss:0.454975\tvalid-logloss:0.454969\n",
      "[50]\ttrain-logloss:0.429339\tvalid-logloss:0.429308\n",
      "[60]\ttrain-logloss:0.409498\tvalid-logloss:0.409431\n",
      "[70]\ttrain-logloss:0.394181\tvalid-logloss:0.3941\n",
      "[80]\ttrain-logloss:0.382228\tvalid-logloss:0.382135\n",
      "[90]\ttrain-logloss:0.372784\tvalid-logloss:0.372688\n",
      "[100]\ttrain-logloss:0.3653\tvalid-logloss:0.365193\n",
      "[110]\ttrain-logloss:0.359371\tvalid-logloss:0.359257\n",
      "[120]\ttrain-logloss:0.354693\tvalid-logloss:0.354572\n",
      "[130]\ttrain-logloss:0.350927\tvalid-logloss:0.350795\n",
      "[140]\ttrain-logloss:0.34789\tvalid-logloss:0.347744\n",
      "[150]\ttrain-logloss:0.345472\tvalid-logloss:0.345314\n",
      "[160]\ttrain-logloss:0.343509\tvalid-logloss:0.343328\n",
      "[170]\ttrain-logloss:0.341916\tvalid-logloss:0.341736\n",
      "[180]\ttrain-logloss:0.340613\tvalid-logloss:0.340431\n",
      "[190]\ttrain-logloss:0.339509\tvalid-logloss:0.33933\n",
      "[200]\ttrain-logloss:0.338642\tvalid-logloss:0.338485\n",
      "[210]\ttrain-logloss:0.337887\tvalid-logloss:0.33774\n",
      "[220]\ttrain-logloss:0.337245\tvalid-logloss:0.337109\n",
      "[230]\ttrain-logloss:0.336679\tvalid-logloss:0.336558\n",
      "[240]\ttrain-logloss:0.336183\tvalid-logloss:0.33607\n",
      "[250]\ttrain-logloss:0.335727\tvalid-logloss:0.335626\n",
      "[260]\ttrain-logloss:0.33534\tvalid-logloss:0.33524\n",
      "[270]\ttrain-logloss:0.33496\tvalid-logloss:0.334869\n",
      "[280]\ttrain-logloss:0.334645\tvalid-logloss:0.334565\n",
      "[290]\ttrain-logloss:0.334362\tvalid-logloss:0.334295\n",
      "[300]\ttrain-logloss:0.333999\tvalid-logloss:0.333932\n",
      "[310]\ttrain-logloss:0.333657\tvalid-logloss:0.333596\n",
      "[320]\ttrain-logloss:0.333381\tvalid-logloss:0.333332\n",
      "[330]\ttrain-logloss:0.333111\tvalid-logloss:0.333066\n",
      "[340]\ttrain-logloss:0.332781\tvalid-logloss:0.332744\n",
      "[350]\ttrain-logloss:0.332467\tvalid-logloss:0.332439\n",
      "[360]\ttrain-logloss:0.332197\tvalid-logloss:0.332178\n",
      "[370]\ttrain-logloss:0.331845\tvalid-logloss:0.331826\n",
      "[380]\ttrain-logloss:0.331627\tvalid-logloss:0.33161\n",
      "[390]\ttrain-logloss:0.331341\tvalid-logloss:0.331339\n",
      "[400]\ttrain-logloss:0.331158\tvalid-logloss:0.331166\n",
      "[410]\ttrain-logloss:0.330894\tvalid-logloss:0.330919\n",
      "[420]\ttrain-logloss:0.330699\tvalid-logloss:0.330741\n",
      "[430]\ttrain-logloss:0.33046\tvalid-logloss:0.330513\n",
      "[440]\ttrain-logloss:0.330282\tvalid-logloss:0.330347\n",
      "[450]\ttrain-logloss:0.330053\tvalid-logloss:0.330138\n",
      "[460]\ttrain-logloss:0.329855\tvalid-logloss:0.329964\n",
      "[470]\ttrain-logloss:0.329631\tvalid-logloss:0.329751\n",
      "[480]\ttrain-logloss:0.32942\tvalid-logloss:0.329561\n",
      "[490]\ttrain-logloss:0.329209\tvalid-logloss:0.329364\n",
      "[500]\ttrain-logloss:0.328996\tvalid-logloss:0.32917\n",
      "[510]\ttrain-logloss:0.328835\tvalid-logloss:0.329031\n",
      "[520]\ttrain-logloss:0.328697\tvalid-logloss:0.328906\n",
      "[530]\ttrain-logloss:0.328509\tvalid-logloss:0.328747\n",
      "[540]\ttrain-logloss:0.328338\tvalid-logloss:0.328599\n",
      "[550]\ttrain-logloss:0.32813\tvalid-logloss:0.328414\n",
      "[560]\ttrain-logloss:0.327969\tvalid-logloss:0.328272\n",
      "[570]\ttrain-logloss:0.327769\tvalid-logloss:0.328093\n",
      "[580]\ttrain-logloss:0.327625\tvalid-logloss:0.327964\n",
      "[590]\ttrain-logloss:0.327461\tvalid-logloss:0.327814\n",
      "[600]\ttrain-logloss:0.327331\tvalid-logloss:0.327706\n",
      "[610]\ttrain-logloss:0.327199\tvalid-logloss:0.327597\n",
      "[620]\ttrain-logloss:0.327051\tvalid-logloss:0.327465\n",
      "[630]\ttrain-logloss:0.326912\tvalid-logloss:0.327343\n",
      "[640]\ttrain-logloss:0.326795\tvalid-logloss:0.327245\n",
      "[650]\ttrain-logloss:0.326691\tvalid-logloss:0.327158\n",
      "[660]\ttrain-logloss:0.326576\tvalid-logloss:0.327063\n",
      "[670]\ttrain-logloss:0.326482\tvalid-logloss:0.326986\n",
      "[680]\ttrain-logloss:0.326354\tvalid-logloss:0.326876\n",
      "[690]\ttrain-logloss:0.326222\tvalid-logloss:0.326762\n",
      "[700]\ttrain-logloss:0.326138\tvalid-logloss:0.326691\n",
      "[710]\ttrain-logloss:0.326059\tvalid-logloss:0.326628\n",
      "[720]\ttrain-logloss:0.325957\tvalid-logloss:0.32655\n",
      "[730]\ttrain-logloss:0.325839\tvalid-logloss:0.32645\n",
      "[740]\ttrain-logloss:0.325739\tvalid-logloss:0.32637\n",
      "[750]\ttrain-logloss:0.325653\tvalid-logloss:0.326301\n",
      "[760]\ttrain-logloss:0.325536\tvalid-logloss:0.326202\n",
      "[770]\ttrain-logloss:0.325431\tvalid-logloss:0.326114\n",
      "[780]\ttrain-logloss:0.325313\tvalid-logloss:0.326022\n",
      "[790]\ttrain-logloss:0.325195\tvalid-logloss:0.325924\n",
      "[800]\ttrain-logloss:0.325111\tvalid-logloss:0.325859\n",
      "[810]\ttrain-logloss:0.325022\tvalid-logloss:0.325785\n",
      "[820]\ttrain-logloss:0.324937\tvalid-logloss:0.325719\n",
      "[830]\ttrain-logloss:0.324861\tvalid-logloss:0.325657\n",
      "[840]\ttrain-logloss:0.324776\tvalid-logloss:0.325591\n",
      "[850]\ttrain-logloss:0.324707\tvalid-logloss:0.325536\n",
      "[860]\ttrain-logloss:0.324611\tvalid-logloss:0.325461\n",
      "[870]\ttrain-logloss:0.324534\tvalid-logloss:0.325396\n",
      "[880]\ttrain-logloss:0.324471\tvalid-logloss:0.325349\n",
      "[890]\ttrain-logloss:0.324363\tvalid-logloss:0.325259\n",
      "[900]\ttrain-logloss:0.324287\tvalid-logloss:0.325194\n",
      "[910]\ttrain-logloss:0.324192\tvalid-logloss:0.325113\n",
      "[920]\ttrain-logloss:0.324122\tvalid-logloss:0.325055\n",
      "[930]\ttrain-logloss:0.324026\tvalid-logloss:0.324973\n",
      "[940]\ttrain-logloss:0.32393\tvalid-logloss:0.324888\n",
      "[950]\ttrain-logloss:0.323845\tvalid-logloss:0.324818\n",
      "[960]\ttrain-logloss:0.323764\tvalid-logloss:0.324748\n",
      "[970]\ttrain-logloss:0.323653\tvalid-logloss:0.324653\n",
      "[980]\ttrain-logloss:0.323582\tvalid-logloss:0.324593\n",
      "[990]\ttrain-logloss:0.323517\tvalid-logloss:0.324541\n",
      "time: 11min 16s\n"
     ]
    }
   ],
   "source": [
    "import xgboost as xgb\n",
    "\n",
    "# Set our parameters for xgboost\n",
    "params = {}\n",
    "params['objective'] = 'binary:logistic'\n",
    "params['eval_metric'] = 'logloss'\n",
    "params['eta'] = 0.02\n",
    "params['max_depth'] = 4\n",
    "\n",
    "d_train = xgb.DMatrix(x_train, label=y_train)\n",
    "d_valid = xgb.DMatrix(x_valid, label=y_valid)\n",
    "\n",
    "watchlist = [(d_train, 'train'), (d_valid, 'valid')]\n",
    "\n",
    "bst = xgb.train(params, d_train, 1000, watchlist, early_stopping_rounds=20, verbose_eval=10)"
   ]
  },
  {
   "cell_type": "code",
   "execution_count": 119,
   "metadata": {},
   "outputs": [
    {
     "name": "stdout",
     "output_type": "stream",
     "text": [
      "time: 1min 30s\n"
     ]
    }
   ],
   "source": [
    "d_test = xgb.DMatrix(x_test)\n",
    "p_test = bst.predict(d_test)\n",
    "\n",
    "sub = pd.DataFrame()\n",
    "sub['test_id'] = df_test['test_id']\n",
    "sub['is_duplicate'] = p_test\n",
    "sub.to_csv('simple_xgb3.csv', index=False)"
   ]
  },
  {
   "cell_type": "code",
   "execution_count": 120,
   "metadata": {},
   "outputs": [
    {
     "name": "stdout",
     "output_type": "stream",
     "text": [
      "time: 7.37 s\n"
     ]
    }
   ],
   "source": [
    "def plot_confusion_matrix(cm, classes,\n",
    "                          normalize=False,\n",
    "                          title='Confusion matrix',\n",
    "                          cmap=plt.cm.Blues):\n",
    "    \"\"\"\n",
    "    This function prints and plots the confusion matrix.\n",
    "    Normalization can be applied by setting `normalize=True`.\n",
    "    \"\"\"\n",
    "    import itertools\n",
    "    plt.imshow(cm, interpolation='nearest', cmap=cmap)\n",
    "    plt.title(title)\n",
    "    plt.colorbar()\n",
    "    tick_marks = np.arange(len(classes))\n",
    "    plt.xticks(tick_marks, classes, rotation=45)\n",
    "    plt.yticks(tick_marks, classes)\n",
    "\n",
    "    if normalize:\n",
    "        cm = cm.astype('float') / cm.sum(axis=1)[:, np.newaxis]\n",
    "        print(\"Normalized confusion matrix\")\n",
    "    else:\n",
    "        print('Confusion matrix, without normalization')\n",
    "\n",
    "    print(cm)\n",
    "\n",
    "    thresh = cm.max() / 2.\n",
    "    for i, j in itertools.product(range(cm.shape[0]), range(cm.shape[1])):\n",
    "        plt.text(j, i, cm[i, j],\n",
    "                 horizontalalignment=\"center\",\n",
    "                 color=\"white\" if cm[i, j] > thresh else \"black\")\n",
    "\n",
    "    plt.tight_layout()\n",
    "    plt.ylabel('True label')\n",
    "    plt.xlabel('Predicted label')\n"
   ]
  },
  {
   "cell_type": "code",
   "execution_count": 124,
   "metadata": {},
   "outputs": [
    {
     "name": "stdout",
     "output_type": "stream",
     "text": [
      "time: 9.74 s\n"
     ]
    }
   ],
   "source": [
    " train_pr=bst.predict(xgb.DMatrix(x_train))"
   ]
  },
  {
   "cell_type": "code",
   "execution_count": null,
   "metadata": {
    "collapsed": true
   },
   "outputs": [],
   "source": []
  },
  {
   "cell_type": "code",
   "execution_count": 127,
   "metadata": {},
   "outputs": [
    {
     "name": "stdout",
     "output_type": "stream",
     "text": [
      "Confusion matrix, without normalization\n",
      "[[579451   5846]\n",
      " [106762  12647]]\n"
     ]
    },
    {
     "data": {
      "image/png": "[encoded data removed]",
      "text/plain": [
       "<matplotlib.figure.Figure at 0x1e7b0278>"
      ]
     },
     "metadata": {},
     "output_type": "display_data"
    },
    {
     "name": "stdout",
     "output_type": "stream",
     "text": [
      "time: 8.09 s\n"
     ]
    }
   ],
   "source": [
    "from sklearn.metrics import classification_report, confusion_matrix\n",
    "cnf_matrix = confusion_matrix(np.array(y_train), np.round(train_pr,0))\n",
    "\n",
    "#plt.figure(figsize=(5,5))\n",
    "plot_confusion_matrix(cnf_matrix, classes=[0,1],\n",
    "                      title='Confusion matrix, without normalization')"
   ]
  },
  {
   "cell_type": "code",
   "execution_count": 130,
   "metadata": {},
   "outputs": [
    {
     "name": "stdout",
     "output_type": "stream",
     "text": [
      "             precision    recall  f1-score   support\n",
      "\n",
      "        0.0       0.84      0.99      0.91    585297\n",
      "        1.0       0.68      0.11      0.18    119409\n",
      "\n",
      "avg / total       0.82      0.84      0.79    704706\n",
      "\n",
      "time: 739 ms\n"
     ]
    }
   ],
   "source": [
    "print classification_report(np.array(y_train), np.round(train_pr,0))"
   ]
  },
  {
   "cell_type": "code",
   "execution_count": 129,
   "metadata": {},
   "outputs": [
    {
     "name": "stdout",
     "output_type": "stream",
     "text": [
      "Confusion matrix, without normalization\n",
      "[[144831   1492]\n",
      " [ 26687   3167]]\n"
     ]
    },
    {
     "data": {
      "image/png": "[encoded data removed]",
      "text/plain": [
       "<matplotlib.figure.Figure at 0x10d99ac8>"
      ]
     },
     "metadata": {},
     "output_type": "display_data"
    },
    {
     "name": "stdout",
     "output_type": "stream",
     "text": [
      "time: 5.02 s\n"
     ]
    }
   ],
   "source": [
    "cnf_matrix = confusion_matrix(np.array(y_valid), np.round(bst.predict(xgb.DMatrix(x_valid)),0))\n",
    "plot_confusion_matrix(cnf_matrix, classes=[0,1],\n",
    "                      title='Confusion matrix, without normalization')"
   ]
  },
  {
   "cell_type": "code",
   "execution_count": 132,
   "metadata": {},
   "outputs": [
    {
     "name": "stdout",
     "output_type": "stream",
     "text": [
      "             precision    recall  f1-score   support\n",
      "\n",
      "        0.0       0.84      0.99      0.91    146323\n",
      "        1.0       0.68      0.11      0.18     29854\n",
      "\n",
      "avg / total       0.82      0.84      0.79    176177\n",
      "\n",
      "time: 2.6 s\n"
     ]
    }
   ],
   "source": [
    "print classification_report(np.array(y_valid), np.round(bst.predict(xgb.DMatrix(x_valid)),0))"
   ]
  },
  {
   "cell_type": "code",
   "execution_count": null,
   "metadata": {
    "collapsed": true
   },
   "outputs": [],
   "source": []
  }
 ],
 "metadata": {
  "kernelspec": {
   "display_name": "Python [Root]",
   "language": "python",
   "name": "Python [Root]"
  },
  "language_info": {
   "codemirror_mode": {
    "name": "ipython",
    "version": 2
   },
   "file_extension": ".py",
   "mimetype": "text/x-python",
   "name": "python",
   "nbconvert_exporter": "python",
   "pygments_lexer": "ipython2",
   "version": "2.7.12"
  }
 },
 "nbformat": 4,
 "nbformat_minor": 1
}
