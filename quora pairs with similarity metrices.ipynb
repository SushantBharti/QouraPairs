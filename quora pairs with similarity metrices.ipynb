{
 "cells": [
  {
   "cell_type": "code",
   "execution_count": 26,
   "metadata": {},
   "outputs": [
    {
     "name": "stdout",
     "output_type": "stream",
     "text": [
      "The autotime extension is already loaded. To reload it, use:\n",
      "  %reload_ext autotime\n"
     ]
    },
    {
     "data": {
      "text/html": [
       "<script>requirejs.config({paths: { 'plotly': ['https://cdn.plot.ly/plotly-latest.min']},});if(!window.Plotly) {{require(['plotly'],function(plotly) {window.Plotly=plotly;});}}</script>"
      ],
      "text/plain": [
       "<IPython.core.display.HTML object>"
      ]
     },
     "metadata": {},
     "output_type": "display_data"
    },
    {
     "name": "stdout",
     "output_type": "stream",
     "text": [
      "time: 756 ms\n"
     ]
    }
   ],
   "source": [
    "import pandas as pd\n",
    "import numpy as np\n",
    "import math\n",
    "from IPython.display import Markdown, display\n",
    "from scipy.stats import skew\n",
    "import seaborn as sns\n",
    "import matplotlib.pyplot as plt    \n",
    "from dataHack import removeColl \n",
    "%matplotlib inline\n",
    "import warnings\n",
    "import scipy\n",
    "warnings.filterwarnings('ignore')\n",
    "import networkx as nx\n",
    "%load_ext autotime\n",
    "def printmd(string):\n",
    "    display(Markdown(string))\n",
    "import plotly.offline as py1\n",
    "py1.init_notebook_mode(connected=True)\n",
    "import plotly.graph_objs as go\n",
    "import plotly.tools as tls\n",
    "import os\n",
    "import difflib\n",
    "import plotly\n",
    "from nltk.metrics import jaccard_distance\n",
    "from nltk.corpus import stopwords\n",
    "from sklearn.feature_extraction.text import TfidfVectorizer, CountVectorizer\n",
    "import plotly.plotly as py\n",
    "from plotly.tools import FigureFactory as ff\n",
    "plotly.tools.set_credentials_file(username='sushant.bharti', api_key='WptZURbEo6AnBZpSHNgO')\n",
    "plt.style.use('seaborn-bright')\n",
    "pal = sns.color_palette()"
   ]
  },
  {
   "cell_type": "code",
   "execution_count": 27,
   "metadata": {},
   "outputs": [
    {
     "name": "stdout",
     "output_type": "stream",
     "text": [
      "time: 11.2 s\n"
     ]
    }
   ],
   "source": [
    "df_train = pd.read_csv(\"train.csv\",nrows=5).fillna(\"\")\n",
    "df_test = pd.read_csv(\"test.csv\").fillna(\"\")"
   ]
  },
  {
   "cell_type": "code",
   "execution_count": 28,
   "metadata": {},
   "outputs": [
    {
     "name": "stdout",
     "output_type": "stream",
     "text": [
      "time: 80 ms\n"
     ]
    }
   ],
   "source": [
    "stops = set(stopwords.words(\"english\"))"
   ]
  },
  {
   "cell_type": "code",
   "execution_count": 29,
   "metadata": {},
   "outputs": [
    {
     "name": "stdout",
     "output_type": "stream",
     "text": [
      "time: 34 ms\n"
     ]
    }
   ],
   "source": [
    "def build_dict(sentences):\n",
    "#    from collections import OrderedDict\n",
    "\n",
    "    '''\n",
    "    Build dictionary of train words\n",
    "    Outputs: \n",
    "     - Dictionary of word --> word index\n",
    "     - Dictionary of word --> word count freq\n",
    "    '''\n",
    "    print('Building dictionary..'),\n",
    "    wordcount = dict()\n",
    "    #For each worn in each sentence, cummulate frequency\n",
    "    for ss in sentences:\n",
    "        for w in ss:\n",
    "            if w not in wordcount:\n",
    "                wordcount[w] = 1\n",
    "            else:\n",
    "                wordcount[w] += 1\n",
    "    \n",
    "    worddict = dict()\n",
    "    for idx, w in enumerate(sorted(wordcount.items(), key = lambda x: x[1], reverse=True)):\n",
    "        worddict[w[0]] = idx+2  # leave 0 and 1 (UNK)\n",
    "\n",
    "    return worddict, wordcount"
   ]
  },
  {
   "cell_type": "code",
   "execution_count": 30,
   "metadata": {},
   "outputs": [
    {
     "name": "stdout",
     "output_type": "stream",
     "text": [
      "time: 68 ms\n"
     ]
    }
   ],
   "source": [
    "def generate_sequence(sentences, dictionary):\n",
    "    '''\n",
    "    Convert tokenized text in sequences of integers\n",
    "    '''\n",
    "    seqs = [None] * len(sentences)\n",
    "    for idx, ss in enumerate(sentences):\n",
    "        seqs[idx] = [dictionary[w] if w in dictionary else 1 for w in ss]\n",
    "\n",
    "    return seqs"
   ]
  },
  {
   "cell_type": "code",
   "execution_count": 31,
   "metadata": {},
   "outputs": [
    {
     "name": "stdout",
     "output_type": "stream",
     "text": [
      "time: 84 ms\n"
     ]
    }
   ],
   "source": [
    " \n",
    "def normalize(x):\n",
    "    return x.lower().split()"
   ]
  },
  {
   "cell_type": "code",
   "execution_count": 32,
   "metadata": {},
   "outputs": [
    {
     "name": "stdout",
     "output_type": "stream",
     "text": [
      "time: 66 ms\n"
     ]
    }
   ],
   "source": [
    "questions = df_train['question1'].tolist() + df_train['question2'].tolist()"
   ]
  },
  {
   "cell_type": "code",
   "execution_count": 33,
   "metadata": {},
   "outputs": [
    {
     "name": "stdout",
     "output_type": "stream",
     "text": [
      "Building dictionary..\n"
     ]
    }
   ],
   "source": [
    "%reload_ext autotime\n",
    "tok_questions = [normalize(s) for s in questions]\n",
    "worddict, wordcount = build_dict(tok_questions)"
   ]
  },
  {
   "cell_type": "code",
   "execution_count": 34,
   "metadata": {},
   "outputs": [
    {
     "name": "stdout",
     "output_type": "stream",
     "text": [
      "(111, ' total words ', 72, ' unique words')\n",
      "time: 92 ms\n"
     ]
    }
   ],
   "source": [
    "print(np.sum(list(wordcount.values())), ' total words ', len(worddict), ' unique words')"
   ]
  },
  {
   "cell_type": "code",
   "execution_count": 35,
   "metadata": {},
   "outputs": [
    {
     "name": "stdout",
     "output_type": "stream",
     "text": [
      "time: 72 ms\n"
     ]
    }
   ],
   "source": [
    "def jc(x):\n",
    "    return jaccard_distance(set(x['s_question1']),set(x['s_question2']))\n",
    "def cosine_d(x):\n",
    "    a = set(x['s_question1'])\n",
    "    b = set(x['s_question2'])\n",
    "    d = len(a)*len(b)\n",
    "    if (d == 0):\n",
    "        return 0\n",
    "    else: \n",
    "        return len(a.intersection(b))/d"
   ]
  },
  {
   "cell_type": "code",
   "execution_count": 36,
   "metadata": {},
   "outputs": [
    {
     "data": {
      "text/plain": [
       "<10x43 sparse matrix of type '<type 'numpy.float64'>'\n",
       "\twith 56 stored elements in Compressed Sparse Row format>"
      ]
     },
     "execution_count": 36,
     "metadata": {},
     "output_type": "execute_result"
    },
    {
     "name": "stdout",
     "output_type": "stream",
     "text": [
      "time: 82 ms\n"
     ]
    }
   ],
   "source": [
    "tfidf = TfidfVectorizer(stop_words='english', ngram_range=(1, 1))\n",
    "tfidf.fit_transform(questions)"
   ]
  },
  {
   "cell_type": "code",
   "execution_count": 37,
   "metadata": {},
   "outputs": [
    {
     "name": "stdout",
     "output_type": "stream",
     "text": [
      "time: 56 ms\n"
     ]
    }
   ],
   "source": [
    "def diff_ratios(st1, st2):\n",
    "    seq = difflib.SequenceMatcher()\n",
    "    seq.set_seqs(str(st1).lower(), str(st2).lower())\n",
    "    return seq.real_quick_ratio()\n",
    "\n",
    "def word_match_share(row):\n",
    "    q1words = {}\n",
    "    q2words = {}\n",
    "    for word in str(row['question1']).lower().split():\n",
    "        if word not in stops:\n",
    "            q1words[word] = 1\n",
    "    for word in str(row['question2']).lower().split():\n",
    "        if word not in stops:\n",
    "            q2words[word] = 1\n",
    "    if len(q1words) == 0 or len(q2words) == 0:\n",
    "        return 0\n",
    "    shared_words_in_q1 = [w for w in q1words.keys() if w in q2words]\n",
    "    shared_words_in_q2 = [w for w in q2words.keys() if w in q1words]\n",
    "    R = (len(shared_words_in_q1) + len(shared_words_in_q2))/(len(q1words) + len(q2words))\n",
    "    return R"
   ]
  },
  {
   "cell_type": "code",
   "execution_count": 38,
   "metadata": {},
   "outputs": [
    {
     "name": "stdout",
     "output_type": "stream",
     "text": [
      "time: 63 ms\n"
     ]
    }
   ],
   "source": [
    "def get_features(df_features):\n",
    "    \n",
    "    print('jaccard...')\n",
    "    df_features['s_question1'] = generate_sequence(df_features['question1'].apply(normalize),worddict)\n",
    "    df_features['s_question2'] = generate_sequence(df_features['question2'].apply(normalize),worddict)\n",
    "    df_features['z_jaccard'] = df_features.apply(jc,axis = 1)\n",
    "    \n",
    "    print('cosine....')\n",
    "    df_features['z_cosine'] = df_features.apply(cosine_d,axis = 1)\n",
    "    \n",
    "    print('length....')\n",
    "    df_features['z_len1'] = df_features.question1.map(lambda x: len(str(x)))\n",
    "    df_features['z_len2'] = df_features.question2.map(lambda x: len(str(x)))\n",
    "    df_features['z_word_len1'] = df_features.question1.map(lambda x: len(str(x).split()))\n",
    "    df_features['z_word_len2'] = df_features.question2.map(lambda x: len(str(x).split())) \n",
    "    \n",
    "    print('difflib...')\n",
    "    df_features['z_match_ratio'] = df_features.apply(lambda r: diff_ratios(r.question1, r.question2), axis=1)  #takes long\n",
    "    \n",
    "    print('word match...')\n",
    "    df_features['z_word_match'] = df_features.apply(word_match_share, axis=1, raw=True)\n",
    "    \n",
    "    print('tfidf...')\n",
    "    question1_tfidf = tfidf.transform(df_features.question1.tolist())\n",
    "    question2_tfidf = tfidf.transform(df_features.question2.tolist())\n",
    "    df_features['z_tfidf_sum1'] = np.sum(question1_tfidf, axis = 1)\n",
    "    df_features['z_tfidf_sum2'] = np.sum(question2_tfidf, axis = 1)\n",
    "    df_features['z_tfidf_mean1'] = np.mean(question1_tfidf, axis = 1)\n",
    "    df_features['z_tfidf_mean2'] = np.mean(question2_tfidf, axis = 1)\n",
    "    df_features['z_tfidf_len1'] = (question1_tfidf != 0).sum(axis = 1)\n",
    "    df_features['z_tfidf_len2'] = (question2_tfidf != 0).sum(axis = 1)\n",
    "    \n",
    "    return df_features.fillna(0.0)"
   ]
  },
  {
   "cell_type": "code",
   "execution_count": 39,
   "metadata": {},
   "outputs": [
    {
     "name": "stdout",
     "output_type": "stream",
     "text": [
      "jaccard...\n",
      "cosine....\n",
      "length....\n",
      "difflib...\n",
      "word match...\n",
      "tfidf...\n",
      "time: 100 ms\n"
     ]
    }
   ],
   "source": [
    "df_train = get_features(df_train)"
   ]
  },
  {
   "cell_type": "code",
   "execution_count": 40,
   "metadata": {},
   "outputs": [
    {
     "data": {
      "text/html": [
       "<div>\n",
       "<style>\n",
       "    .dataframe thead tr:only-child th {\n",
       "        text-align: right;\n",
       "    }\n",
       "\n",
       "    .dataframe thead th {\n",
       "        text-align: left;\n",
       "    }\n",
       "\n",
       "    .dataframe tbody tr th {\n",
       "        vertical-align: top;\n",
       "    }\n",
       "</style>\n",
       "<table border=\"1\" class=\"dataframe\">\n",
       "  <thead>\n",
       "    <tr style=\"text-align: right;\">\n",
       "      <th></th>\n",
       "      <th>id</th>\n",
       "      <th>qid1</th>\n",
       "      <th>qid2</th>\n",
       "      <th>question1</th>\n",
       "      <th>question2</th>\n",
       "      <th>is_duplicate</th>\n",
       "      <th>s_question1</th>\n",
       "      <th>s_question2</th>\n",
       "      <th>z_jaccard</th>\n",
       "      <th>z_cosine</th>\n",
       "      <th>...</th>\n",
       "      <th>z_word_len1</th>\n",
       "      <th>z_word_len2</th>\n",
       "      <th>z_match_ratio</th>\n",
       "      <th>z_word_match</th>\n",
       "      <th>z_tfidf_sum1</th>\n",
       "      <th>z_tfidf_sum2</th>\n",
       "      <th>z_tfidf_mean1</th>\n",
       "      <th>z_tfidf_mean2</th>\n",
       "      <th>z_tfidf_len1</th>\n",
       "      <th>z_tfidf_len2</th>\n",
       "    </tr>\n",
       "  </thead>\n",
       "  <tbody>\n",
       "    <tr>\n",
       "      <th>0</th>\n",
       "      <td>0</td>\n",
       "      <td>1</td>\n",
       "      <td>2</td>\n",
       "      <td>What is the step by step guide to invest in sh...</td>\n",
       "      <td>What is the step by step guide to invest in sh...</td>\n",
       "      <td>0</td>\n",
       "      <td>[5, 4, 2, 6, 7, 6, 21, 14, 18, 3, 11, 32, 3, 63]</td>\n",
       "      <td>[5, 4, 2, 6, 7, 6, 21, 14, 18, 3, 11, 67]</td>\n",
       "      <td>0.230769</td>\n",
       "      <td>0</td>\n",
       "      <td>...</td>\n",
       "      <td>14</td>\n",
       "      <td>12</td>\n",
       "      <td>0.926829</td>\n",
       "      <td>0</td>\n",
       "      <td>2.342687</td>\n",
       "      <td>2.121320</td>\n",
       "      <td>0.054481</td>\n",
       "      <td>0.049333</td>\n",
       "      <td>6</td>\n",
       "      <td>5</td>\n",
       "    </tr>\n",
       "    <tr>\n",
       "      <th>1</th>\n",
       "      <td>1</td>\n",
       "      <td>3</td>\n",
       "      <td>4</td>\n",
       "      <td>What is the story of Kohinoor (Koh-i-Noor) Dia...</td>\n",
       "      <td>What would happen if the Indian government sto...</td>\n",
       "      <td>0</td>\n",
       "      <td>[5, 4, 2, 53, 20, 19, 15, 71]</td>\n",
       "      <td>[5, 13, 31, 33, 2, 48, 36, 23, 2, 19, 15, 47, 62]</td>\n",
       "      <td>0.750000</td>\n",
       "      <td>0</td>\n",
       "      <td>...</td>\n",
       "      <td>8</td>\n",
       "      <td>13</td>\n",
       "      <td>0.733813</td>\n",
       "      <td>0</td>\n",
       "      <td>2.230896</td>\n",
       "      <td>2.819188</td>\n",
       "      <td>0.051881</td>\n",
       "      <td>0.065563</td>\n",
       "      <td>5</td>\n",
       "      <td>8</td>\n",
       "    </tr>\n",
       "    <tr>\n",
       "      <th>2</th>\n",
       "      <td>2</td>\n",
       "      <td>5</td>\n",
       "      <td>6</td>\n",
       "      <td>How can I increase the speed of my internet co...</td>\n",
       "      <td>How can Internet speed be increased by hacking...</td>\n",
       "      <td>0</td>\n",
       "      <td>[8, 10, 9, 40, 2, 12, 20, 72, 17, 68, 38, 58, ...</td>\n",
       "      <td>[8, 10, 17, 12, 25, 26, 7, 70, 29, 64]</td>\n",
       "      <td>0.800000</td>\n",
       "      <td>0</td>\n",
       "      <td>...</td>\n",
       "      <td>14</td>\n",
       "      <td>10</td>\n",
       "      <td>0.893939</td>\n",
       "      <td>0</td>\n",
       "      <td>2.442741</td>\n",
       "      <td>2.229275</td>\n",
       "      <td>0.056808</td>\n",
       "      <td>0.051844</td>\n",
       "      <td>6</td>\n",
       "      <td>5</td>\n",
       "    </tr>\n",
       "    <tr>\n",
       "      <th>3</th>\n",
       "      <td>3</td>\n",
       "      <td>7</td>\n",
       "      <td>8</td>\n",
       "      <td>Why am I mentally very lonely? How can I solve...</td>\n",
       "      <td>Find the remainder when [math]23^{24}[/math] i...</td>\n",
       "      <td>0</td>\n",
       "      <td>[39, 51, 9, 60, 50, 52, 8, 10, 9, 69, 55]</td>\n",
       "      <td>[41, 2, 59, 37, 65, 4, 35, 7, 28]</td>\n",
       "      <td>1.000000</td>\n",
       "      <td>0</td>\n",
       "      <td>...</td>\n",
       "      <td>11</td>\n",
       "      <td>9</td>\n",
       "      <td>0.869565</td>\n",
       "      <td>0</td>\n",
       "      <td>1.732051</td>\n",
       "      <td>2.138090</td>\n",
       "      <td>0.040280</td>\n",
       "      <td>0.049723</td>\n",
       "      <td>3</td>\n",
       "      <td>5</td>\n",
       "    </tr>\n",
       "    <tr>\n",
       "      <th>4</th>\n",
       "      <td>4</td>\n",
       "      <td>9</td>\n",
       "      <td>10</td>\n",
       "      <td>Which one dissolve in water quikly sugar, salt...</td>\n",
       "      <td>Which fish would survive in salt water?</td>\n",
       "      <td>0</td>\n",
       "      <td>[16, 27, 66, 3, 54, 44, 56, 46, 73, 22, 30, 49...</td>\n",
       "      <td>[16, 45, 13, 57, 3, 43, 24]</td>\n",
       "      <td>0.888889</td>\n",
       "      <td>0</td>\n",
       "      <td>...</td>\n",
       "      <td>13</td>\n",
       "      <td>7</td>\n",
       "      <td>0.678261</td>\n",
       "      <td>0</td>\n",
       "      <td>2.993785</td>\n",
       "      <td>1.993467</td>\n",
       "      <td>0.069623</td>\n",
       "      <td>0.046360</td>\n",
       "      <td>9</td>\n",
       "      <td>4</td>\n",
       "    </tr>\n",
       "  </tbody>\n",
       "</table>\n",
       "<p>5 rows × 22 columns</p>\n",
       "</div>"
      ],
      "text/plain": [
       "   id  qid1  qid2                                          question1  \\\n",
       "0   0     1     2  What is the step by step guide to invest in sh...   \n",
       "1   1     3     4  What is the story of Kohinoor (Koh-i-Noor) Dia...   \n",
       "2   2     5     6  How can I increase the speed of my internet co...   \n",
       "3   3     7     8  Why am I mentally very lonely? How can I solve...   \n",
       "4   4     9    10  Which one dissolve in water quikly sugar, salt...   \n",
       "\n",
       "                                           question2  is_duplicate  \\\n",
       "0  What is the step by step guide to invest in sh...             0   \n",
       "1  What would happen if the Indian government sto...             0   \n",
       "2  How can Internet speed be increased by hacking...             0   \n",
       "3  Find the remainder when [math]23^{24}[/math] i...             0   \n",
       "4            Which fish would survive in salt water?             0   \n",
       "\n",
       "                                         s_question1  \\\n",
       "0   [5, 4, 2, 6, 7, 6, 21, 14, 18, 3, 11, 32, 3, 63]   \n",
       "1                      [5, 4, 2, 53, 20, 19, 15, 71]   \n",
       "2  [8, 10, 9, 40, 2, 12, 20, 72, 17, 68, 38, 58, ...   \n",
       "3          [39, 51, 9, 60, 50, 52, 8, 10, 9, 69, 55]   \n",
       "4  [16, 27, 66, 3, 54, 44, 56, 46, 73, 22, 30, 49...   \n",
       "\n",
       "                                         s_question2  z_jaccard  z_cosine  \\\n",
       "0          [5, 4, 2, 6, 7, 6, 21, 14, 18, 3, 11, 67]   0.230769         0   \n",
       "1  [5, 13, 31, 33, 2, 48, 36, 23, 2, 19, 15, 47, 62]   0.750000         0   \n",
       "2             [8, 10, 17, 12, 25, 26, 7, 70, 29, 64]   0.800000         0   \n",
       "3                  [41, 2, 59, 37, 65, 4, 35, 7, 28]   1.000000         0   \n",
       "4                        [16, 45, 13, 57, 3, 43, 24]   0.888889         0   \n",
       "\n",
       "       ...       z_word_len1  z_word_len2  z_match_ratio  z_word_match  \\\n",
       "0      ...                14           12       0.926829             0   \n",
       "1      ...                 8           13       0.733813             0   \n",
       "2      ...                14           10       0.893939             0   \n",
       "3      ...                11            9       0.869565             0   \n",
       "4      ...                13            7       0.678261             0   \n",
       "\n",
       "   z_tfidf_sum1  z_tfidf_sum2  z_tfidf_mean1  z_tfidf_mean2  z_tfidf_len1  \\\n",
       "0      2.342687      2.121320       0.054481       0.049333             6   \n",
       "1      2.230896      2.819188       0.051881       0.065563             5   \n",
       "2      2.442741      2.229275       0.056808       0.051844             6   \n",
       "3      1.732051      2.138090       0.040280       0.049723             3   \n",
       "4      2.993785      1.993467       0.069623       0.046360             9   \n",
       "\n",
       "   z_tfidf_len2  \n",
       "0             5  \n",
       "1             8  \n",
       "2             5  \n",
       "3             5  \n",
       "4             4  \n",
       "\n",
       "[5 rows x 22 columns]"
      ]
     },
     "execution_count": 40,
     "metadata": {},
     "output_type": "execute_result"
    },
    {
     "name": "stdout",
     "output_type": "stream",
     "text": [
      "time: 89 ms\n"
     ]
    }
   ],
   "source": [
    "df_train.head()"
   ]
  },
  {
   "cell_type": "code",
   "execution_count": 41,
   "metadata": {},
   "outputs": [
    {
     "data": {
      "text/html": [
       "<div>\n",
       "<style>\n",
       "    .dataframe thead tr:only-child th {\n",
       "        text-align: right;\n",
       "    }\n",
       "\n",
       "    .dataframe thead th {\n",
       "        text-align: left;\n",
       "    }\n",
       "\n",
       "    .dataframe tbody tr th {\n",
       "        vertical-align: top;\n",
       "    }\n",
       "</style>\n",
       "<table border=\"1\" class=\"dataframe\">\n",
       "  <thead>\n",
       "    <tr style=\"text-align: right;\">\n",
       "      <th></th>\n",
       "      <th>s_question1</th>\n",
       "      <th>s_question2</th>\n",
       "      <th>z_jaccard</th>\n",
       "      <th>z_cosine</th>\n",
       "      <th>z_len1</th>\n",
       "      <th>z_len2</th>\n",
       "      <th>z_word_len1</th>\n",
       "      <th>z_word_len2</th>\n",
       "      <th>z_match_ratio</th>\n",
       "      <th>z_word_match</th>\n",
       "      <th>z_tfidf_sum1</th>\n",
       "      <th>z_tfidf_sum2</th>\n",
       "      <th>z_tfidf_mean1</th>\n",
       "      <th>z_tfidf_mean2</th>\n",
       "      <th>z_tfidf_len1</th>\n",
       "      <th>z_tfidf_len2</th>\n",
       "    </tr>\n",
       "  </thead>\n",
       "  <tbody>\n",
       "    <tr>\n",
       "      <th>0</th>\n",
       "      <td>[5, 4, 2, 6, 7, 6, 21, 14, 18, 3, 11, 32, 3, 63]</td>\n",
       "      <td>[5, 4, 2, 6, 7, 6, 21, 14, 18, 3, 11, 67]</td>\n",
       "      <td>0.230769</td>\n",
       "      <td>0</td>\n",
       "      <td>66</td>\n",
       "      <td>57</td>\n",
       "      <td>14</td>\n",
       "      <td>12</td>\n",
       "      <td>0.926829</td>\n",
       "      <td>0</td>\n",
       "      <td>2.342687</td>\n",
       "      <td>2.121320</td>\n",
       "      <td>0.054481</td>\n",
       "      <td>0.049333</td>\n",
       "      <td>6</td>\n",
       "      <td>5</td>\n",
       "    </tr>\n",
       "    <tr>\n",
       "      <th>1</th>\n",
       "      <td>[5, 4, 2, 53, 20, 19, 15, 71]</td>\n",
       "      <td>[5, 13, 31, 33, 2, 48, 36, 23, 2, 19, 15, 47, 62]</td>\n",
       "      <td>0.750000</td>\n",
       "      <td>0</td>\n",
       "      <td>51</td>\n",
       "      <td>88</td>\n",
       "      <td>8</td>\n",
       "      <td>13</td>\n",
       "      <td>0.733813</td>\n",
       "      <td>0</td>\n",
       "      <td>2.230896</td>\n",
       "      <td>2.819188</td>\n",
       "      <td>0.051881</td>\n",
       "      <td>0.065563</td>\n",
       "      <td>5</td>\n",
       "      <td>8</td>\n",
       "    </tr>\n",
       "    <tr>\n",
       "      <th>2</th>\n",
       "      <td>[8, 10, 9, 40, 2, 12, 20, 72, 17, 68, 38, 58, ...</td>\n",
       "      <td>[8, 10, 17, 12, 25, 26, 7, 70, 29, 64]</td>\n",
       "      <td>0.800000</td>\n",
       "      <td>0</td>\n",
       "      <td>73</td>\n",
       "      <td>59</td>\n",
       "      <td>14</td>\n",
       "      <td>10</td>\n",
       "      <td>0.893939</td>\n",
       "      <td>0</td>\n",
       "      <td>2.442741</td>\n",
       "      <td>2.229275</td>\n",
       "      <td>0.056808</td>\n",
       "      <td>0.051844</td>\n",
       "      <td>6</td>\n",
       "      <td>5</td>\n",
       "    </tr>\n",
       "    <tr>\n",
       "      <th>3</th>\n",
       "      <td>[39, 51, 9, 60, 50, 52, 8, 10, 9, 69, 55]</td>\n",
       "      <td>[41, 2, 59, 37, 65, 4, 35, 7, 28]</td>\n",
       "      <td>1.000000</td>\n",
       "      <td>0</td>\n",
       "      <td>50</td>\n",
       "      <td>65</td>\n",
       "      <td>11</td>\n",
       "      <td>9</td>\n",
       "      <td>0.869565</td>\n",
       "      <td>0</td>\n",
       "      <td>1.732051</td>\n",
       "      <td>2.138090</td>\n",
       "      <td>0.040280</td>\n",
       "      <td>0.049723</td>\n",
       "      <td>3</td>\n",
       "      <td>5</td>\n",
       "    </tr>\n",
       "    <tr>\n",
       "      <th>4</th>\n",
       "      <td>[16, 27, 66, 3, 54, 44, 56, 46, 73, 22, 30, 49...</td>\n",
       "      <td>[16, 45, 13, 57, 3, 43, 24]</td>\n",
       "      <td>0.888889</td>\n",
       "      <td>0</td>\n",
       "      <td>76</td>\n",
       "      <td>39</td>\n",
       "      <td>13</td>\n",
       "      <td>7</td>\n",
       "      <td>0.678261</td>\n",
       "      <td>0</td>\n",
       "      <td>2.993785</td>\n",
       "      <td>1.993467</td>\n",
       "      <td>0.069623</td>\n",
       "      <td>0.046360</td>\n",
       "      <td>9</td>\n",
       "      <td>4</td>\n",
       "    </tr>\n",
       "  </tbody>\n",
       "</table>\n",
       "</div>"
      ],
      "text/plain": [
       "                                         s_question1  \\\n",
       "0   [5, 4, 2, 6, 7, 6, 21, 14, 18, 3, 11, 32, 3, 63]   \n",
       "1                      [5, 4, 2, 53, 20, 19, 15, 71]   \n",
       "2  [8, 10, 9, 40, 2, 12, 20, 72, 17, 68, 38, 58, ...   \n",
       "3          [39, 51, 9, 60, 50, 52, 8, 10, 9, 69, 55]   \n",
       "4  [16, 27, 66, 3, 54, 44, 56, 46, 73, 22, 30, 49...   \n",
       "\n",
       "                                         s_question2  z_jaccard  z_cosine  \\\n",
       "0          [5, 4, 2, 6, 7, 6, 21, 14, 18, 3, 11, 67]   0.230769         0   \n",
       "1  [5, 13, 31, 33, 2, 48, 36, 23, 2, 19, 15, 47, 62]   0.750000         0   \n",
       "2             [8, 10, 17, 12, 25, 26, 7, 70, 29, 64]   0.800000         0   \n",
       "3                  [41, 2, 59, 37, 65, 4, 35, 7, 28]   1.000000         0   \n",
       "4                        [16, 45, 13, 57, 3, 43, 24]   0.888889         0   \n",
       "\n",
       "   z_len1  z_len2  z_word_len1  z_word_len2  z_match_ratio  z_word_match  \\\n",
       "0      66      57           14           12       0.926829             0   \n",
       "1      51      88            8           13       0.733813             0   \n",
       "2      73      59           14           10       0.893939             0   \n",
       "3      50      65           11            9       0.869565             0   \n",
       "4      76      39           13            7       0.678261             0   \n",
       "\n",
       "   z_tfidf_sum1  z_tfidf_sum2  z_tfidf_mean1  z_tfidf_mean2  z_tfidf_len1  \\\n",
       "0      2.342687      2.121320       0.054481       0.049333             6   \n",
       "1      2.230896      2.819188       0.051881       0.065563             5   \n",
       "2      2.442741      2.229275       0.056808       0.051844             6   \n",
       "3      1.732051      2.138090       0.040280       0.049723             3   \n",
       "4      2.993785      1.993467       0.069623       0.046360             9   \n",
       "\n",
       "   z_tfidf_len2  \n",
       "0             5  \n",
       "1             8  \n",
       "2             5  \n",
       "3             5  \n",
       "4             4  "
      ]
     },
     "execution_count": 41,
     "metadata": {},
     "output_type": "execute_result"
    },
    {
     "name": "stdout",
     "output_type": "stream",
     "text": [
      "time: 113 ms\n"
     ]
    }
   ],
   "source": [
    "df_train.iloc[:,6:]"
   ]
  },
  {
   "cell_type": "code",
   "execution_count": 42,
   "metadata": {},
   "outputs": [
    {
     "name": "stdout",
     "output_type": "stream",
     "text": [
      "jaccard...\n",
      "cosine....\n",
      "length....\n",
      "difflib...\n",
      "word match...\n",
      "tfidf...\n",
      "time: 10min 26s\n"
     ]
    }
   ],
   "source": [
    "df_test = get_features(df_test)"
   ]
  },
  {
   "cell_type": "code",
   "execution_count": 43,
   "metadata": {},
   "outputs": [
    {
     "name": "stdout",
     "output_type": "stream",
     "text": [
      "time: 32.3 s\n"
     ]
    }
   ],
   "source": [
    "df_test.to_csv('df_test.csv')"
   ]
  },
  {
   "cell_type": "code",
   "execution_count": 44,
   "metadata": {},
   "outputs": [
    {
     "ename": "SyntaxError",
     "evalue": "invalid syntax (<ipython-input-44-8cf8463b34ca>, line 1)",
     "output_type": "error",
     "traceback": [
      "\u001b[1;36m  File \u001b[1;32m\"<ipython-input-44-8cf8463b34ca>\"\u001b[1;36m, line \u001b[1;32m1\u001b[0m\n\u001b[1;33m    .\u001b[0m\n\u001b[1;37m    ^\u001b[0m\n\u001b[1;31mSyntaxError\u001b[0m\u001b[1;31m:\u001b[0m invalid syntax\n"
     ]
    }
   ],
   "source": [
    "."
   ]
  },
  {
   "cell_type": "code",
   "execution_count": null,
   "metadata": {},
   "outputs": [],
   "source": []
  },
  {
   "cell_type": "code",
   "execution_count": null,
   "metadata": {},
   "outputs": [],
   "source": [
    "#generate_sequence(df_train['question2'].apply(normalize),worddict)"
   ]
  },
  {
   "cell_type": "code",
   "execution_count": null,
   "metadata": {},
   "outputs": [],
   "source": [
    "#del df_features"
   ]
  },
  {
   "cell_type": "code",
   "execution_count": null,
   "metadata": {},
   "outputs": [],
   "source": []
  },
  {
   "cell_type": "code",
   "execution_count": null,
   "metadata": {},
   "outputs": [],
   "source": [
    "df_features"
   ]
  },
  {
   "cell_type": "code",
   "execution_count": null,
   "metadata": {},
   "outputs": [],
   "source": [
    "jc(df_features.iloc[1,:2]),df_features.iloc[1,:2]"
   ]
  },
  {
   "cell_type": "code",
   "execution_count": null,
   "metadata": {},
   "outputs": [],
   "source": [
    "df_features.question1 =df_train.question1"
   ]
  },
  {
   "cell_type": "code",
   "execution_count": null,
   "metadata": {},
   "outputs": [],
   "source": [
    "df_features.question1"
   ]
  },
  {
   "cell_type": "code",
   "execution_count": null,
   "metadata": {},
   "outputs": [],
   "source": [
    "x=tfidf.transform(df_features.question1.tolist())"
   ]
  },
  {
   "cell_type": "code",
   "execution_count": null,
   "metadata": {},
   "outputs": [],
   "source": [
    "tfidf.idf_"
   ]
  },
  {
   "cell_type": "code",
   "execution_count": null,
   "metadata": {},
   "outputs": [],
   "source": [
    " np.sum(x, axis = 1)"
   ]
  },
  {
   "cell_type": "code",
   "execution_count": null,
   "metadata": {},
   "outputs": [],
   "source": [
    " np.sum(x, axis = 0)"
   ]
  },
  {
   "cell_type": "code",
   "execution_count": null,
   "metadata": {
    "collapsed": true
   },
   "outputs": [],
   "source": []
  },
  {
   "cell_type": "code",
   "execution_count": null,
   "metadata": {
    "collapsed": true
   },
   "outputs": [],
   "source": []
  }
 ],
 "metadata": {
  "kernelspec": {
   "display_name": "Python [Root]",
   "language": "python",
   "name": "Python [Root]"
  },
  "language_info": {
   "codemirror_mode": {
    "name": "ipython",
    "version": 2
   },
   "file_extension": ".py",
   "mimetype": "text/x-python",
   "name": "python",
   "nbconvert_exporter": "python",
   "pygments_lexer": "ipython2",
   "version": "2.7.12"
  }
 },
 "nbformat": 4,
 "nbformat_minor": 1
}
